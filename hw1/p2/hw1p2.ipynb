{
  "cells": [
    {
      "cell_type": "markdown",
      "metadata": {
        "id": "F9ERgBpbcMmB"
      },
      "source": [
        "# README"
      ]
    },
    {
      "cell_type": "code",
      "execution_count": 1,
      "metadata": {
        "id": "rYdWPw5HFGxd",
        "colab": {
          "base_uri": "https://localhost:8080/",
          "height": 105
        },
        "outputId": "dc33f5e2-3b01-4d84-84b0-1ea4cdc9f786"
      },
      "outputs": [
        {
          "output_type": "execute_result",
          "data": {
            "text/plain": [
              "'\\n\\nTo run the entire pipeline : Runtime -> Rull All OR Ctrl + F9\\n\\nExperimentation :\\n\\n    1) Epochs            : 50                : epochs and scheduler were set such a way that final 10 epochs would run with minimum learning rate\\n    2) Batch Size        : 32768             : maximum that fits the hardware\\n    3) Context           : 24                : different contexts were tried out by different for smaller architectures and 24 gave the best results\\n    4) Weight Decay      : 0.05              : value was set to commnly used value\\n    5) Scheduler         : ReduceLROnPlateau : starts with 0.01 and is halved until minimum, which is 0.0001, is reached after changes in two consecutive validation accuracy is less that 0.1\\n    6) Optimizer         : AdamW             : sgd, adam, and adamw were tried on small networks and adamw gave slightly better results\\n    \\n    7) Network           : iterations started with widest layer possible with 3 layers with 4096 neurons each layer and then for each iterations, the width was halved and depth was added until 20M parameters\\n                           relu, leaky relu, selu, gelu activation were tried but no significant difference was observed for smaller networks. gelu was used finally since it is considered state-of the art for nlp\\n                           now, 5 layers of 2048 neorns each layer was the first architecture to cross 86.5% validation accuracy mark\\n                           batchnorm and dropuout layers were added the this architecture to cross 87% validation accuracy mark\\n                           few more iterations over this architecture were tried such as replacing first and last individually with 1028 neuron layers\\n                           the latter gave better results which was 87.4 % validation accuracy\\n                           \\n                           final network is below :\\n          \\n                           ========================================================================\\n                           Layer                 Kernel Shape   Output Shape     Params  Mult-Adds\\n                           \\n                           0_model.Linear_0        [735, 2048]  [32768, 2048]  1.507328M   1.50528M\\n                           1_model.LayerNorm_1          [2048]  [32768, 2048]     4.096k     2.048k\\n                           2_model.GELU_2                    -  [32768, 2048]          -          -\\n                           3_model.Dropout_3                 -  [32768, 2048]          -          -\\n                           \\n                           4_model.Linear_4       [2048, 2048]  [32768, 2048]  4.196352M  4.194304M\\n                           5_model.LayerNorm_5          [2048]  [32768, 2048]     4.096k     2.048k\\n                           6_model.GELU_6                    -  [32768, 2048]          -          -\\n                           7_model.Dropout_7                 -  [32768, 2048]          -          -\\n                           \\n                           8_model.Linear_8       [2048, 2048]  [32768, 2048]  4.196352M  4.194304M\\n                           9_model.LayerNorm_9          [2048]  [32768, 2048]     4.096k     2.048k\\n                           10_model.GELU_10                  -  [32768, 2048]          -          -\\n                           11_model.Dropout_11               -  [32768, 2048]          -          -\\n                           \\n                           12_model.Linear_12     [2048, 2048]  [32768, 2048]  4.196352M  4.194304M\\n                           13_model.LayerNorm_13        [2048]  [32768, 2048]     4.096k     2.048k\\n                           14_model.GELU_14                  -  [32768, 2048]          -          -\\n                           15_model.Dropout_15               -  [32768, 2048]          -          -\\n                           \\n                           16_model.Linear_16     [2048, 1024]  [32768, 1024]  2.098176M  2.097152M\\n                           17_model.LayerNorm_17        [1024]  [32768, 1024]     2.048k     1.024k\\n                           18_model.GELU_18                  -  [32768, 1024]          -          -\\n                           19_model.Dropout_19               -  [32768, 1024]          -          -\\n                           \\n                           20_model.Linear_20     [1024, 1024]  [32768, 1024]    1.0496M  1.048576M\\n                           21_model.LayerNorm_21        [1024]  [32768, 1024]     2.048k     1.024k\\n                           22_model.GELU_22                  -  [32768, 1024]          -          -\\n                           23_model.Dropout_23               -  [32768, 1024]          -          -\\n                           24_model.Linear_24     [1024, 1024]  [32768, 1024]    1.0496M  1.048576M\\n                           \\n                           25_model.LayerNorm_25        [1024]  [32768, 1024]     2.048k     1.024k\\n                           26_model.GELU_26                  -  [32768, 1024]          -          -\\n                           27_model.Dropout_27               -  [32768, 1024]          -          -\\n                           \\n                           28_model.Linear_28     [1024, 1024]  [32768, 1024]    1.0496M  1.048576M\\n                           29_model.LayerNorm_29        [1024]  [32768, 1024]     2.048k     1.024k\\n                           30_model.GELU_30                  -  [32768, 1024]          -          -\\n                           31_model.Dropout_31               -  [32768, 1024]          -          -\\n                           32_model.Linear_32       [1024, 40]    [32768, 40]      41.0k     40.96k\\n                           \\n                           ------------------------------------------------------------------------\\n                                                     Totals\\n                           Total params          19.408936M\\n                           Trainable params      19.408936M\\n                           Non-trainable params         0.0\\n                           Mult-Adds              19.38432M\\n\\n    8) Experiments Sheet : study group really helped to try all different variations. the sheet that record all the study group experiments is here : https://docs.google.com/spreadsheets/d/1JYw6RwC8Xm4RBxIWaWMEIyF0Ca5sgwXOuf0GhhnvDY4/edit#gid=0\\n    9) WandB Runs        : wandb project showing graphs with some key results are attached here : https://wandb.ai/ajinkyanande111/hw1p2\\n\\n'"
            ],
            "application/vnd.google.colaboratory.intrinsic+json": {
              "type": "string"
            }
          },
          "metadata": {},
          "execution_count": 1
        }
      ],
      "source": [
        "'''\n",
        "\n",
        "To run the entire pipeline : Runtime -> Rull All OR Ctrl + F9\n",
        "\n",
        "Experimentation :\n",
        "\n",
        "    1) Epochs            : 75                : epochs and scheduler were set such a way that final 25 epochs would run with minimum learning rate\n",
        "    2) Batch Size        : 32768             : maximum that fits the hardware\n",
        "    3) Context           : 24                : different contexts were tried out by different for smaller architectures and 24 gave the best results\n",
        "    4) Weight Decay      : 0.05              : value was set to commnly used value\n",
        "    5) Scheduler         : ReduceLROnPlateau : starts with 0.01 and is halved until minimum, which is 0.0001, is reached after changes in two consecutive validation accuracy is less that 0.1\n",
        "    6) Optimizer         : AdamW             : sgd, adam, and adamw were tried on small networks and adamw gave slightly better results\n",
        "    \n",
        "    7) Network           : iterations started with widest layer possible with 3 layers with 4096 neurons each layer and then for each iterations, the width was halved and depth was added until 20M parameters\n",
        "                           relu, leaky relu, selu, gelu activation were tried but no significant difference was observed for smaller networks. gelu was used finally since it is considered state-of the art for nlp\n",
        "                           now, 5 layers of 2048 neorns each layer was the first architecture to cross 86.5% validation accuracy mark\n",
        "                           batchnorm and dropuout layers were added the this architecture to cross 87% validation accuracy mark\n",
        "                           few more iterations over this architecture were tried such as replacing first and last individually with 1028 neuron layers\n",
        "                           the latter gave better results which was 87.4 % validation accuracy\n",
        "                           \n",
        "                           final network is below :\n",
        "          \n",
        "                           ========================================================================\n",
        "                           Layer                 Kernel Shape   Output Shape     Params  Mult-Adds\n",
        "                           \n",
        "                           0_model.Linear_0        [735, 2048]  [32768, 2048]  1.507328M   1.50528M\n",
        "                           1_model.LayerNorm_1          [2048]  [32768, 2048]     4.096k     2.048k\n",
        "                           2_model.GELU_2                    -  [32768, 2048]          -          -\n",
        "                           3_model.Dropout_3                 -  [32768, 2048]          -          -\n",
        "                           \n",
        "                           4_model.Linear_4       [2048, 2048]  [32768, 2048]  4.196352M  4.194304M\n",
        "                           5_model.LayerNorm_5          [2048]  [32768, 2048]     4.096k     2.048k\n",
        "                           6_model.GELU_6                    -  [32768, 2048]          -          -\n",
        "                           7_model.Dropout_7                 -  [32768, 2048]          -          -\n",
        "                           \n",
        "                           8_model.Linear_8       [2048, 2048]  [32768, 2048]  4.196352M  4.194304M\n",
        "                           9_model.LayerNorm_9          [2048]  [32768, 2048]     4.096k     2.048k\n",
        "                           10_model.GELU_10                  -  [32768, 2048]          -          -\n",
        "                           11_model.Dropout_11               -  [32768, 2048]          -          -\n",
        "                           \n",
        "                           12_model.Linear_12     [2048, 2048]  [32768, 2048]  4.196352M  4.194304M\n",
        "                           13_model.LayerNorm_13        [2048]  [32768, 2048]     4.096k     2.048k\n",
        "                           14_model.GELU_14                  -  [32768, 2048]          -          -\n",
        "                           15_model.Dropout_15               -  [32768, 2048]          -          -\n",
        "                           \n",
        "                           16_model.Linear_16     [2048, 1024]  [32768, 1024]  2.098176M  2.097152M\n",
        "                           17_model.LayerNorm_17        [1024]  [32768, 1024]     2.048k     1.024k\n",
        "                           18_model.GELU_18                  -  [32768, 1024]          -          -\n",
        "                           19_model.Dropout_19               -  [32768, 1024]          -          -\n",
        "                           \n",
        "                           20_model.Linear_20     [1024, 1024]  [32768, 1024]    1.0496M  1.048576M\n",
        "                           21_model.LayerNorm_21        [1024]  [32768, 1024]     2.048k     1.024k\n",
        "                           22_model.GELU_22                  -  [32768, 1024]          -          -\n",
        "                           23_model.Dropout_23               -  [32768, 1024]          -          -\n",
        "                           24_model.Linear_24     [1024, 1024]  [32768, 1024]    1.0496M  1.048576M\n",
        "                           \n",
        "                           25_model.LayerNorm_25        [1024]  [32768, 1024]     2.048k     1.024k\n",
        "                           26_model.GELU_26                  -  [32768, 1024]          -          -\n",
        "                           27_model.Dropout_27               -  [32768, 1024]          -          -\n",
        "                           \n",
        "                           28_model.Linear_28     [1024, 1024]  [32768, 1024]    1.0496M  1.048576M\n",
        "                           29_model.LayerNorm_29        [1024]  [32768, 1024]     2.048k     1.024k\n",
        "                           30_model.GELU_30                  -  [32768, 1024]          -          -\n",
        "                           31_model.Dropout_31               -  [32768, 1024]          -          -\n",
        "                           32_model.Linear_32       [1024, 40]    [32768, 40]      41.0k     40.96k\n",
        "                           \n",
        "                           ------------------------------------------------------------------------\n",
        "                                                     Totals\n",
        "                           Total params          19.408936M\n",
        "                           Trainable params      19.408936M\n",
        "                           Non-trainable params         0.0\n",
        "                           Mult-Adds              19.38432M\n",
        "\n",
        "    8) Experiments Sheet : study group really helped to try all different variations. the sheet that record all the study group experiments is here : https://docs.google.com/spreadsheets/d/1JYw6RwC8Xm4RBxIWaWMEIyF0Ca5sgwXOuf0GhhnvDY4/edit#gid=0\n",
        "                           experiments sheet also attached in the zip folder (experiments.xlsx)\n",
        "    9) WandB Runs        : wandb project is made public and can be found here : https://wandb.ai/ajinkyanande111/hw1p2\n",
        "                           final best run train loss, validation accuracy and lerning rate graphs also attached in zip folder (fig_1.png, fig_2.png, fig_3.png respectively) \n",
        "\n",
        "'''"
      ]
    },
    {
      "cell_type": "markdown",
      "metadata": {
        "id": "W23LunuBVU5S"
      },
      "source": [
        "# HW1P2 : Frame Level Speech Recognition"
      ]
    },
    {
      "cell_type": "code",
      "execution_count": 2,
      "metadata": {
        "colab": {
          "base_uri": "https://localhost:8080/"
        },
        "id": "WWt_oOaeVf7B",
        "outputId": "e31be345-896d-491f-89e6-f47a5287d697"
      },
      "outputs": [
        {
          "output_type": "stream",
          "name": "stdout",
          "text": [
            "Wed Oct 12 23:52:18 2022       \n",
            "+-----------------------------------------------------------------------------+\n",
            "| NVIDIA-SMI 460.32.03    Driver Version: 460.32.03    CUDA Version: 11.2     |\n",
            "|-------------------------------+----------------------+----------------------+\n",
            "| GPU  Name        Persistence-M| Bus-Id        Disp.A | Volatile Uncorr. ECC |\n",
            "| Fan  Temp  Perf  Pwr:Usage/Cap|         Memory-Usage | GPU-Util  Compute M. |\n",
            "|                               |                      |               MIG M. |\n",
            "|===============================+======================+======================|\n",
            "|   0  Tesla T4            Off  | 00000000:00:04.0 Off |                    0 |\n",
            "| N/A   41C    P8     9W /  70W |      0MiB / 15109MiB |      0%      Default |\n",
            "|                               |                      |                  N/A |\n",
            "+-------------------------------+----------------------+----------------------+\n",
            "                                                                               \n",
            "+-----------------------------------------------------------------------------+\n",
            "| Processes:                                                                  |\n",
            "|  GPU   GI   CI        PID   Type   Process name                  GPU Memory |\n",
            "|        ID   ID                                                   Usage      |\n",
            "|=============================================================================|\n",
            "|  No running processes found                                                 |\n",
            "+-----------------------------------------------------------------------------+\n"
          ]
        }
      ],
      "source": [
        "!nvidia-smi"
      ]
    },
    {
      "cell_type": "markdown",
      "metadata": {
        "id": "z4vZbDmJvMp1"
      },
      "source": [
        "# Libraries"
      ]
    },
    {
      "cell_type": "code",
      "execution_count": 3,
      "metadata": {
        "colab": {
          "base_uri": "https://localhost:8080/"
        },
        "id": "rwYu9sSUnSho",
        "outputId": "32ebf192-6ec8-4011-f184-1914fa7c6b86"
      },
      "outputs": [
        {
          "output_type": "stream",
          "name": "stdout",
          "text": [
            "\u001b[K     |████████████████████████████████| 1.9 MB 13.9 MB/s \n",
            "\u001b[K     |████████████████████████████████| 162 kB 65.6 MB/s \n",
            "\u001b[K     |████████████████████████████████| 182 kB 57.1 MB/s \n",
            "\u001b[K     |████████████████████████████████| 63 kB 863 kB/s \n",
            "\u001b[K     |████████████████████████████████| 162 kB 74.3 MB/s \n",
            "\u001b[K     |████████████████████████████████| 158 kB 63.5 MB/s \n",
            "\u001b[K     |████████████████████████████████| 157 kB 25.5 MB/s \n",
            "\u001b[K     |████████████████████████████████| 157 kB 44.2 MB/s \n",
            "\u001b[K     |████████████████████████████████| 157 kB 61.0 MB/s \n",
            "\u001b[K     |████████████████████████████████| 157 kB 57.0 MB/s \n",
            "\u001b[K     |████████████████████████████████| 157 kB 57.3 MB/s \n",
            "\u001b[K     |████████████████████████████████| 157 kB 61.7 MB/s \n",
            "\u001b[K     |████████████████████████████████| 157 kB 50.8 MB/s \n",
            "\u001b[K     |████████████████████████████████| 156 kB 55.6 MB/s \n",
            "\u001b[?25h  Building wheel for pathtools (setup.py) ... \u001b[?25l\u001b[?25hdone\n",
            "Looking in indexes: https://pypi.org/simple, https://us-python.pkg.dev/colab-wheels/public/simple/\n",
            "Collecting kaggle==1.5.8\n",
            "  Downloading kaggle-1.5.8.tar.gz (59 kB)\n",
            "\u001b[K     |████████████████████████████████| 59 kB 7.1 MB/s \n",
            "\u001b[?25hBuilding wheels for collected packages: kaggle\n",
            "  Building wheel for kaggle (setup.py) ... \u001b[?25l\u001b[?25hdone\n",
            "  Created wheel for kaggle: filename=kaggle-1.5.8-py3-none-any.whl size=73275 sha256=ba42783addc7120f93da59b73e48d01a3bcb3ddc7e8f955de4e2fc07e4f61b66\n",
            "  Stored in directory: /root/.cache/pip/wheels/de/f7/d8/c3902cacb7e62cb611b1ad343d7cc07f42f7eb76ae3a52f3d1\n",
            "Successfully built kaggle\n",
            "Installing collected packages: kaggle\n",
            "  Attempting uninstall: kaggle\n",
            "    Found existing installation: kaggle 1.5.12\n",
            "    Uninstalling kaggle-1.5.12:\n",
            "      Successfully uninstalled kaggle-1.5.12\n",
            "Successfully installed kaggle-1.5.8\n"
          ]
        }
      ],
      "source": [
        "!pip install torchsummaryX wandb --quiet\n",
        "!pip install --upgrade --force-reinstall --no-deps kaggle==1.5.8"
      ]
    },
    {
      "cell_type": "code",
      "execution_count": 4,
      "metadata": {
        "colab": {
          "base_uri": "https://localhost:8080/"
        },
        "id": "qI4qfx7tiBZt",
        "outputId": "7d617eb9-00a4-475e-c6d9-4c28661e84f4"
      },
      "outputs": [
        {
          "output_type": "stream",
          "name": "stdout",
          "text": [
            "Device:  cuda\n"
          ]
        }
      ],
      "source": [
        "import torch\n",
        "from torch.cuda import amp\n",
        "import torch.nn as nn\n",
        "import torch.nn.functional as F\n",
        "from torchsummaryX import summary\n",
        "from torch.utils.data import Dataset, DataLoader\n",
        "\n",
        "import numpy as np\n",
        "import pandas as pd\n",
        "from sklearn.metrics import accuracy_score\n",
        "\n",
        "import os\n",
        "import gc\n",
        "import zipfile\n",
        "import time\n",
        "import datetime\n",
        "\n",
        "from tqdm.auto import tqdm\n",
        "import wandb\n",
        "\n",
        "device = 'cuda' if torch.cuda.is_available() else 'cpu'\n",
        "print(\"Device: \", device)"
      ]
    },
    {
      "cell_type": "markdown",
      "metadata": {
        "id": "ZIi0Big7vPa9"
      },
      "source": [
        "# Kaggle"
      ]
    },
    {
      "cell_type": "code",
      "execution_count": 5,
      "metadata": {
        "colab": {
          "base_uri": "https://localhost:8080/"
        },
        "id": "8yBgXjKV1O0Z",
        "outputId": "3a0aea15-b686-4a9e-a799-bf1f9b0e2a22"
      },
      "outputs": [
        {
          "output_type": "stream",
          "name": "stdout",
          "text": [
            "Mounted at /content/drive\n"
          ]
        }
      ],
      "source": [
        "from google.colab import drive\n",
        "drive.mount('/content/drive')"
      ]
    },
    {
      "cell_type": "code",
      "execution_count": 6,
      "metadata": {
        "id": "TPBUd7Cnl-Rx"
      },
      "outputs": [],
      "source": [
        "!mkdir /root/.kaggle\n",
        "\n",
        "with open('/root/.kaggle/kaggle.json', 'w+') as f:\n",
        "    f.write('{\"username\":\"ajinkyanande\",\"key\":\"5f60b9bc169fe67552e51c70e754066d\"}') \n",
        "\n",
        "!chmod 600 /root/.kaggle/kaggle.json"
      ]
    },
    {
      "cell_type": "code",
      "execution_count": 7,
      "metadata": {
        "colab": {
          "base_uri": "https://localhost:8080/"
        },
        "id": "if2Somqfbje1",
        "outputId": "71cb8231-b9f6-4ee3-fcea-29b0dcb01c13"
      },
      "outputs": [
        {
          "output_type": "stream",
          "name": "stdout",
          "text": [
            "Downloading 11-785-f22-hw1p2.zip to /content\n",
            " 99% 2.12G/2.13G [00:18<00:00, 181MB/s]\n",
            "100% 2.13G/2.13G [00:18<00:00, 124MB/s]\n"
          ]
        }
      ],
      "source": [
        "# commands to download data from kaggle\n",
        "!kaggle competitions download -c 11-785-f22-hw1p2 --force\n",
        "!mkdir '/content/data/'\n",
        "\n",
        "!unzip -qo '11-785-f22-hw1p2.zip' -d '/content/data/'"
      ]
    },
    {
      "cell_type": "markdown",
      "metadata": {
        "id": "qNacQ8bpt9nw"
      },
      "source": [
        "# Parameters Configuration"
      ]
    },
    {
      "cell_type": "code",
      "execution_count": 8,
      "metadata": {
        "id": "PmKwlFqgt_Zq"
      },
      "outputs": [],
      "source": [
        "config = {'epochs' : 75,\n",
        "          'batch_size' : 32768,\n",
        "\n",
        "          'context' : 24,\n",
        "          'offset' : 0,\n",
        "          'limit' : -1,\n",
        "\n",
        "          'optimizer_weight_decay' : 0.05,\n",
        "\n",
        "          'dropout' : 0.2,\n",
        "          'constant_lr' : 0.0005,\n",
        "          \n",
        "          'reduceonplateau_start_lr' : 0.01,\n",
        "          'reduceonplateau_factor' : 0.5,\n",
        "          'reduceonplateau_patience' : 2,\n",
        "          'reduceonplateau_threshold' : 0.1,\n",
        "          'reduceonplateau_min_lr' : 0.0001\n",
        "          }"
      ]
    },
    {
      "cell_type": "code",
      "execution_count": 9,
      "metadata": {
        "id": "N-9qE20hmCgQ"
      },
      "outputs": [],
      "source": [
        "phonemes = ['SIL',   'AA',    'AE',    'AH',    'AO',    'AW'   , 'AY',  \n",
        "            'B'  ,   'CH',    'D' ,    'DH',    'EH',    'ER'   , 'EY',\n",
        "            'F'  ,   'G' ,    'HH',    'IH',    'IY',    'JH'   , 'K',\n",
        "            'L'  ,   'M' ,    'N' ,    'NG',    'OW',    'OY'   , 'P',\n",
        "            'R'  ,   'S' ,    'SH',    'T' ,    'TH',    'UH'   , 'UW',\n",
        "            'V'  ,   'W' ,    'Y' ,    'Z' ,    'ZH',    '<sos>', '<eos>'\n",
        "            ]"
      ]
    },
    {
      "cell_type": "markdown",
      "metadata": {
        "id": "Vuzce0_TdcaR"
      },
      "source": [
        "# Dataset"
      ]
    },
    {
      "cell_type": "code",
      "execution_count": 10,
      "metadata": {
        "id": "YpLCvi3AJC5z"
      },
      "outputs": [],
      "source": [
        "# dataset class to load train and validation data\n",
        "class AudioDataset(torch.utils.data.Dataset) :\n",
        "    def __init__(self, data_path, context, offset, partition) :\n",
        "        # check partition\n",
        "        assert partition == 'train' or partition == 'eval'\n",
        "\n",
        "        # define class variables\n",
        "        self.context = context\n",
        "        self.offset = offset\n",
        "        self.data_path = data_path\n",
        "\n",
        "        # load mfcc file names\n",
        "        self.mfcc_dir = self.data_path + ['train-clean-100/mfcc/' if partition=='train'\n",
        "                                          else 'dev-clean/mfcc/'][0]\n",
        "        \n",
        "        # load transcript file names\n",
        "        self.transcript_dir = self.data_path + ['train-clean-100/transcript/' if partition=='train'\n",
        "                                                else 'dev-clean/transcript/'][0]\n",
        "        \n",
        "        # load X and Y file names\n",
        "        mfcc_names = os.listdir(self.mfcc_dir)\n",
        "        transcript_names = os.listdir(self.transcript_dir)\n",
        "        assert len(mfcc_names) == len(transcript_names)\n",
        "\n",
        "        # iterate through files and load X and Y in list\n",
        "        self.mfccs, self.transcripts = [], []\n",
        "        for i in range(0, len(mfcc_names)) :\n",
        "            # load a single mfcc\n",
        "            mfcc = np.load(self.mfcc_dir + mfcc_names[i])\n",
        "        \n",
        "            # load the corresponding transcript\n",
        "            transcript = np.load(self.transcript_dir + transcript_names[i])\n",
        "\n",
        "            # cepstral normalization of mfcc\n",
        "            mfcc = mfcc - np.mean(mfcc, axis=0, keepdims=True)\n",
        "            mfcc = mfcc / np.std(mfcc, axis=0, keepdims=True)\n",
        "        \n",
        "            # remove start of line <sos> and end of line <eos>\n",
        "            transcript = transcript[1: -1]\n",
        "            assert '<sos>' or '<SOS>' or '<eos>' or '<EOS>' not in transcript\n",
        "\n",
        "            # append each mfcc to self.mfcc and transcript to self.transcript\n",
        "            self.mfccs.append(mfcc)\n",
        "            self.transcripts.append(transcript)\n",
        "\n",
        "        # concatenate all mfccs (frames, features)\n",
        "        self.mfccs = np.concatenate(self.mfccs, axis=0)\n",
        "\n",
        "        # concatenate all transcripts (frames, )\n",
        "        self.transcripts = np.concatenate(self.transcripts)\n",
        "\n",
        "        # make sure X and Y have same points\n",
        "        assert self.mfccs.shape[0] == self.transcripts.shape[0]\n",
        "\n",
        "        # length of the dataset is length of concatenated mfccs/transcripts\n",
        "        self.length = self.transcripts.shape[0]\n",
        "\n",
        "        # pad zeros equal to context (context + frames + context, features)\n",
        "        self.mfccs = np.vstack((np.zeros((self.context, self.mfccs.shape[1])),\n",
        "                                self.mfccs,\n",
        "                                np.zeros((self.context, self.mfccs.shape[1]))))\n",
        "\n",
        "        # available phonemes in transcript\n",
        "        self.phonemes = phonemes\n",
        "\n",
        "        # map transcript phonems to integers. TODO : better method\n",
        "        self.transcripts = np.asarray([self.phonemes.index(self.transcripts[i]) for i in range(self.transcripts.shape[0])])\n",
        "        assert self.transcripts.shape[0] == self.length\n",
        "\n",
        "    def __len__(self):\n",
        "        return self.length\n",
        "\n",
        "    def __getitem__(self, ind):\n",
        "        # frame ind after offset, context and padding is context\n",
        "        start_ind = self.offset + ind\n",
        "        end_ind = self.offset + ind + 2 * self.context + 1\n",
        "        \n",
        "        # slice required frames (2 * context + 1, features)\n",
        "        frames = self.mfccs[start_ind: end_ind, :]\n",
        "        frames = frames.flatten()\n",
        "        frames = torch.FloatTensor(frames)\n",
        "        \n",
        "        # get required transcript\n",
        "        phoneme = torch.tensor(self.transcripts[ind])\n",
        "\n",
        "        return frames, phoneme"
      ]
    },
    {
      "cell_type": "code",
      "execution_count": 11,
      "metadata": {
        "id": "e8KfVP39S6o7"
      },
      "outputs": [],
      "source": [
        "class AudioTestDataset(torch.utils.data.Dataset):\n",
        "    def __init__(self, data_path, context, offset) :\n",
        "        # define class variables\n",
        "        self.context = context\n",
        "        self.offset = offset\n",
        "        self.data_path = data_path\n",
        "\n",
        "        # load mfcc file names\n",
        "        self.mfcc_dir = data_path + 'test-clean/mfcc/'\n",
        "        \n",
        "        # load X and Y file names\n",
        "        mfcc_names = sorted(os.listdir(self.mfcc_dir))\n",
        "\n",
        "        # iterate through files and load X and Y in list\n",
        "        self.mfccs = []\n",
        "        for i in range(0, len(mfcc_names)) :\n",
        "            # load a single mfcc\n",
        "            mfcc = np.load(self.mfcc_dir + mfcc_names[i])\n",
        "        \n",
        "            # cepstral normalization of mfcc\n",
        "            mfcc = mfcc - np.mean(mfcc, axis=0, keepdims=True)\n",
        "            mfcc = mfcc / np.std(mfcc, axis=0, keepdims=True)\n",
        "        \n",
        "            # append each mfcc to self.mfcc, transcript to self.transcript\n",
        "            self.mfccs.append(mfcc)\n",
        "\n",
        "        # concatenate all mfccs (frames, features)\n",
        "        self.mfccs = np.concatenate(self.mfccs, axis=0)\n",
        "\n",
        "        # length of the dataset is length of concatenated mfccs/transcripts\n",
        "        self.length = self.mfccs.shape[0]\n",
        "\n",
        "        # pad zeros equal to context (context + frames + context, features)\n",
        "        self.mfccs = np.vstack((np.zeros((self.context, self.mfccs.shape[1])),\n",
        "                                self.mfccs,\n",
        "                                np.zeros((self.context, self.mfccs.shape[1]))))\n",
        "\n",
        "    def __len__(self):\n",
        "        return self.length\n",
        "\n",
        "    def __getitem__(self, ind):\n",
        "        # frame ind after offset, context and padding=context\n",
        "        start_ind = self.offset + ind\n",
        "        end_ind = self.offset + ind + 2 * self.context + 1\n",
        "        \n",
        "        # slice required frames (2 * context + 1, features)\n",
        "        frames = self.mfccs[start_ind: end_ind, :]\n",
        "        frames = frames.flatten()\n",
        "        frames = torch.FloatTensor(frames)\n",
        "        \n",
        "        return frames, phoneme"
      ]
    },
    {
      "cell_type": "markdown",
      "metadata": {
        "id": "2mlwaKlDt_2c"
      },
      "source": [
        "# Create and Save Datasets"
      ]
    },
    {
      "cell_type": "code",
      "execution_count": 12,
      "metadata": {
        "id": "7xi7V8x8W9z4"
      },
      "outputs": [],
      "source": [
        "train_data = AudioDataset(data_path='/content/data/', context=config['context'], offset=config['offset'], partition='train')"
      ]
    },
    {
      "cell_type": "code",
      "execution_count": 13,
      "metadata": {
        "id": "0v5qRw-PErIz"
      },
      "outputs": [],
      "source": [
        "eval_data = AudioDataset(data_path='/content/data/', context=config['context'], offset=config['offset'], partition='eval')"
      ]
    },
    {
      "cell_type": "code",
      "execution_count": 14,
      "metadata": {
        "id": "nYh5DuOSEq5k"
      },
      "outputs": [],
      "source": [
        "test_data = AudioTestDataset(data_path='/content/data/', context=config['context'], offset=config['offset'])"
      ]
    },
    {
      "cell_type": "code",
      "execution_count": 15,
      "metadata": {
        "colab": {
          "base_uri": "https://localhost:8080/"
        },
        "id": "4mzoYfTKu14s",
        "outputId": "142a8393-b94e-451e-f1f2-ee23dc01282c"
      },
      "outputs": [
        {
          "output_type": "stream",
          "name": "stdout",
          "text": [
            "batch size:  32768\n",
            "context:  24\n",
            "input size:  735\n",
            "output symbols:  42\n",
            "train dataset samples = 36191134, batches = 1105\n",
            "validation dataset samples = 1937496, batches = 60\n",
            "test dataset samples = 1943253, batches = 60\n"
          ]
        }
      ],
      "source": [
        "train_loader = torch.utils.data.DataLoader(train_data,\n",
        "                                           batch_size=config['batch_size'], pin_memory=True,\n",
        "                                           shuffle=True\n",
        "                                           )\n",
        "\n",
        "eval_loader = torch.utils.data.DataLoader(eval_data,\n",
        "                                          batch_size=config['batch_size'], pin_memory=True,\n",
        "                                          shuffle=False\n",
        "                                          )\n",
        "\n",
        "test_loader = torch.utils.data.DataLoader(test_data,\n",
        "                                          batch_size=config['batch_size'], pin_memory=True, \n",
        "                                          shuffle=False\n",
        "                                          )\n",
        "\n",
        "\n",
        "print('batch size: ', config['batch_size'])\n",
        "print('context: ', config['context'])\n",
        "print('input size: ', (2*config['context']+1)*15)\n",
        "print('output symbols: ', len(phonemes))\n",
        "\n",
        "print('train dataset samples = {}, batches = {}'.format(train_data.__len__(), len(train_loader)))\n",
        "print('validation dataset samples = {}, batches = {}'.format(eval_data.__len__(), len(eval_loader)))\n",
        "print('test dataset samples = {}, batches = {}'.format(test_data.__len__(), len(test_loader)))"
      ]
    },
    {
      "cell_type": "code",
      "execution_count": 16,
      "metadata": {
        "colab": {
          "base_uri": "https://localhost:8080/"
        },
        "id": "n-GV3UvgLSoF",
        "outputId": "80dd5067-a67f-4944-d089-25f0e7e4c6db"
      },
      "outputs": [
        {
          "output_type": "stream",
          "name": "stdout",
          "text": [
            "torch.Size([32768, 735]) torch.Size([32768])\n"
          ]
        }
      ],
      "source": [
        "# Testing code to check if your data loaders are working\n",
        "for i, data in enumerate(train_loader):\n",
        "    frames, phoneme = data\n",
        "    print(frames.shape, phoneme.shape)\n",
        "    break"
      ]
    },
    {
      "cell_type": "markdown",
      "metadata": {
        "id": "Nxjwve20JRJ2"
      },
      "source": [
        "# Network Architecture\n"
      ]
    },
    {
      "cell_type": "code",
      "execution_count": 17,
      "metadata": {
        "id": "OvcpontXQq9j"
      },
      "outputs": [],
      "source": [
        "class Network(nn.Module):\n",
        "    def __init__(self, context, dropout):\n",
        "        super(Network, self).__init__()\n",
        "\n",
        "        input_size = (2 * context + 1) * 15\n",
        "        output_size = len(phonemes) - 2\n",
        "\n",
        "        self.model = nn.Sequential(nn.Linear(input_size, 2048),\n",
        "                                   nn.LayerNorm(2048),\n",
        "                                   nn.GELU('tanh'),\n",
        "                                   nn.Dropout(dropout),\n",
        "\n",
        "                                   nn.Linear(2048      , 2048),\n",
        "                                   nn.LayerNorm(2048),\n",
        "                                   nn.GELU('tanh'),\n",
        "                                   nn.Dropout(dropout),\n",
        "\n",
        "                                   nn.Linear(2048      , 2048),\n",
        "                                   nn.LayerNorm(2048),\n",
        "                                   nn.GELU('tanh'),\n",
        "                                   nn.Dropout(dropout),\n",
        "\n",
        "                                   nn.Linear(2048      , 2048),\n",
        "                                   nn.LayerNorm(2048),\n",
        "                                   nn.GELU('tanh'),\n",
        "                                   nn.Dropout(dropout),\n",
        "\n",
        "                                   nn.Linear(2048      , 1024),\n",
        "                                   nn.LayerNorm(1024),\n",
        "                                   nn.GELU('tanh'),\n",
        "                                   nn.Dropout(dropout),\n",
        "\n",
        "                                   nn.Linear(1024      , 1024),\n",
        "                                   nn.LayerNorm(1024),\n",
        "                                   nn.GELU('tanh'),\n",
        "                                   nn.Dropout(dropout),\n",
        "\n",
        "                                   nn.Linear(1024      , 1024),\n",
        "                                   nn.LayerNorm(1024),\n",
        "                                   nn.GELU('tanh'),\n",
        "                                   nn.Dropout(dropout),\n",
        "\n",
        "                                   nn.Linear(1024      , 1024),\n",
        "                                   nn.LayerNorm(1024),\n",
        "                                   nn.GELU('tanh'),\n",
        "                                   nn.Dropout(dropout),\n",
        "\n",
        "                                   nn.Linear(1024      , output_size)\n",
        "                                   )\n",
        "\n",
        "    def forward(self, x) :\n",
        "        out = self.model(x)\n",
        "\n",
        "        return out"
      ]
    },
    {
      "cell_type": "markdown",
      "metadata": {
        "id": "HejoSXe3vMVU"
      },
      "source": [
        "# Model"
      ]
    },
    {
      "cell_type": "code",
      "execution_count": 18,
      "metadata": {
        "colab": {
          "base_uri": "https://localhost:8080/",
          "height": 1000
        },
        "id": "_qtrEM1ZvLje",
        "outputId": "fefffd15-37ec-40c3-a17c-6f0e6e1f398e"
      },
      "outputs": [
        {
          "output_type": "stream",
          "name": "stdout",
          "text": [
            "========================================================================\n",
            "                       Kernel Shape   Output Shape     Params  Mult-Adds\n",
            "Layer                                                                   \n",
            "0_model.Linear_0        [735, 2048]  [32768, 2048]  1.507328M   1.50528M\n",
            "1_model.LayerNorm_1          [2048]  [32768, 2048]     4.096k     2.048k\n",
            "2_model.GELU_2                    -  [32768, 2048]          -          -\n",
            "3_model.Dropout_3                 -  [32768, 2048]          -          -\n",
            "4_model.Linear_4       [2048, 2048]  [32768, 2048]  4.196352M  4.194304M\n",
            "5_model.LayerNorm_5          [2048]  [32768, 2048]     4.096k     2.048k\n",
            "6_model.GELU_6                    -  [32768, 2048]          -          -\n",
            "7_model.Dropout_7                 -  [32768, 2048]          -          -\n",
            "8_model.Linear_8       [2048, 2048]  [32768, 2048]  4.196352M  4.194304M\n",
            "9_model.LayerNorm_9          [2048]  [32768, 2048]     4.096k     2.048k\n",
            "10_model.GELU_10                  -  [32768, 2048]          -          -\n",
            "11_model.Dropout_11               -  [32768, 2048]          -          -\n",
            "12_model.Linear_12     [2048, 2048]  [32768, 2048]  4.196352M  4.194304M\n",
            "13_model.LayerNorm_13        [2048]  [32768, 2048]     4.096k     2.048k\n",
            "14_model.GELU_14                  -  [32768, 2048]          -          -\n",
            "15_model.Dropout_15               -  [32768, 2048]          -          -\n",
            "16_model.Linear_16     [2048, 1024]  [32768, 1024]  2.098176M  2.097152M\n",
            "17_model.LayerNorm_17        [1024]  [32768, 1024]     2.048k     1.024k\n",
            "18_model.GELU_18                  -  [32768, 1024]          -          -\n",
            "19_model.Dropout_19               -  [32768, 1024]          -          -\n",
            "20_model.Linear_20     [1024, 1024]  [32768, 1024]    1.0496M  1.048576M\n",
            "21_model.LayerNorm_21        [1024]  [32768, 1024]     2.048k     1.024k\n",
            "22_model.GELU_22                  -  [32768, 1024]          -          -\n",
            "23_model.Dropout_23               -  [32768, 1024]          -          -\n",
            "24_model.Linear_24     [1024, 1024]  [32768, 1024]    1.0496M  1.048576M\n",
            "25_model.LayerNorm_25        [1024]  [32768, 1024]     2.048k     1.024k\n",
            "26_model.GELU_26                  -  [32768, 1024]          -          -\n",
            "27_model.Dropout_27               -  [32768, 1024]          -          -\n",
            "28_model.Linear_28     [1024, 1024]  [32768, 1024]    1.0496M  1.048576M\n",
            "29_model.LayerNorm_29        [1024]  [32768, 1024]     2.048k     1.024k\n",
            "30_model.GELU_30                  -  [32768, 1024]          -          -\n",
            "31_model.Dropout_31               -  [32768, 1024]          -          -\n",
            "32_model.Linear_32       [1024, 40]    [32768, 40]      41.0k     40.96k\n",
            "------------------------------------------------------------------------\n",
            "                          Totals\n",
            "Total params          19.408936M\n",
            "Trainable params      19.408936M\n",
            "Non-trainable params         0.0\n",
            "Mult-Adds              19.38432M\n",
            "========================================================================\n"
          ]
        },
        {
          "output_type": "stream",
          "name": "stderr",
          "text": [
            "/usr/local/lib/python3.7/dist-packages/torchsummaryX/torchsummaryX.py:101: FutureWarning: Dropping of nuisance columns in DataFrame reductions (with 'numeric_only=None') is deprecated; in a future version this will raise TypeError.  Select only valid columns before calling the reduction.\n",
            "  df_sum = df.sum()\n"
          ]
        },
        {
          "output_type": "execute_result",
          "data": {
            "text/plain": [
              "                       Kernel Shape   Output Shape     Params  Mult-Adds\n",
              "Layer                                                                   \n",
              "0_model.Linear_0        [735, 2048]  [32768, 2048]  1507328.0  1505280.0\n",
              "1_model.LayerNorm_1          [2048]  [32768, 2048]     4096.0     2048.0\n",
              "2_model.GELU_2                    -  [32768, 2048]        NaN        NaN\n",
              "3_model.Dropout_3                 -  [32768, 2048]        NaN        NaN\n",
              "4_model.Linear_4       [2048, 2048]  [32768, 2048]  4196352.0  4194304.0\n",
              "5_model.LayerNorm_5          [2048]  [32768, 2048]     4096.0     2048.0\n",
              "6_model.GELU_6                    -  [32768, 2048]        NaN        NaN\n",
              "7_model.Dropout_7                 -  [32768, 2048]        NaN        NaN\n",
              "8_model.Linear_8       [2048, 2048]  [32768, 2048]  4196352.0  4194304.0\n",
              "9_model.LayerNorm_9          [2048]  [32768, 2048]     4096.0     2048.0\n",
              "10_model.GELU_10                  -  [32768, 2048]        NaN        NaN\n",
              "11_model.Dropout_11               -  [32768, 2048]        NaN        NaN\n",
              "12_model.Linear_12     [2048, 2048]  [32768, 2048]  4196352.0  4194304.0\n",
              "13_model.LayerNorm_13        [2048]  [32768, 2048]     4096.0     2048.0\n",
              "14_model.GELU_14                  -  [32768, 2048]        NaN        NaN\n",
              "15_model.Dropout_15               -  [32768, 2048]        NaN        NaN\n",
              "16_model.Linear_16     [2048, 1024]  [32768, 1024]  2098176.0  2097152.0\n",
              "17_model.LayerNorm_17        [1024]  [32768, 1024]     2048.0     1024.0\n",
              "18_model.GELU_18                  -  [32768, 1024]        NaN        NaN\n",
              "19_model.Dropout_19               -  [32768, 1024]        NaN        NaN\n",
              "20_model.Linear_20     [1024, 1024]  [32768, 1024]  1049600.0  1048576.0\n",
              "21_model.LayerNorm_21        [1024]  [32768, 1024]     2048.0     1024.0\n",
              "22_model.GELU_22                  -  [32768, 1024]        NaN        NaN\n",
              "23_model.Dropout_23               -  [32768, 1024]        NaN        NaN\n",
              "24_model.Linear_24     [1024, 1024]  [32768, 1024]  1049600.0  1048576.0\n",
              "25_model.LayerNorm_25        [1024]  [32768, 1024]     2048.0     1024.0\n",
              "26_model.GELU_26                  -  [32768, 1024]        NaN        NaN\n",
              "27_model.Dropout_27               -  [32768, 1024]        NaN        NaN\n",
              "28_model.Linear_28     [1024, 1024]  [32768, 1024]  1049600.0  1048576.0\n",
              "29_model.LayerNorm_29        [1024]  [32768, 1024]     2048.0     1024.0\n",
              "30_model.GELU_30                  -  [32768, 1024]        NaN        NaN\n",
              "31_model.Dropout_31               -  [32768, 1024]        NaN        NaN\n",
              "32_model.Linear_32       [1024, 40]    [32768, 40]    41000.0    40960.0"
            ],
            "text/html": [
              "\n",
              "  <div id=\"df-83562e7c-e01d-4535-ac38-55dee7d05714\">\n",
              "    <div class=\"colab-df-container\">\n",
              "      <div>\n",
              "<style scoped>\n",
              "    .dataframe tbody tr th:only-of-type {\n",
              "        vertical-align: middle;\n",
              "    }\n",
              "\n",
              "    .dataframe tbody tr th {\n",
              "        vertical-align: top;\n",
              "    }\n",
              "\n",
              "    .dataframe thead th {\n",
              "        text-align: right;\n",
              "    }\n",
              "</style>\n",
              "<table border=\"1\" class=\"dataframe\">\n",
              "  <thead>\n",
              "    <tr style=\"text-align: right;\">\n",
              "      <th></th>\n",
              "      <th>Kernel Shape</th>\n",
              "      <th>Output Shape</th>\n",
              "      <th>Params</th>\n",
              "      <th>Mult-Adds</th>\n",
              "    </tr>\n",
              "    <tr>\n",
              "      <th>Layer</th>\n",
              "      <th></th>\n",
              "      <th></th>\n",
              "      <th></th>\n",
              "      <th></th>\n",
              "    </tr>\n",
              "  </thead>\n",
              "  <tbody>\n",
              "    <tr>\n",
              "      <th>0_model.Linear_0</th>\n",
              "      <td>[735, 2048]</td>\n",
              "      <td>[32768, 2048]</td>\n",
              "      <td>1507328.0</td>\n",
              "      <td>1505280.0</td>\n",
              "    </tr>\n",
              "    <tr>\n",
              "      <th>1_model.LayerNorm_1</th>\n",
              "      <td>[2048]</td>\n",
              "      <td>[32768, 2048]</td>\n",
              "      <td>4096.0</td>\n",
              "      <td>2048.0</td>\n",
              "    </tr>\n",
              "    <tr>\n",
              "      <th>2_model.GELU_2</th>\n",
              "      <td>-</td>\n",
              "      <td>[32768, 2048]</td>\n",
              "      <td>NaN</td>\n",
              "      <td>NaN</td>\n",
              "    </tr>\n",
              "    <tr>\n",
              "      <th>3_model.Dropout_3</th>\n",
              "      <td>-</td>\n",
              "      <td>[32768, 2048]</td>\n",
              "      <td>NaN</td>\n",
              "      <td>NaN</td>\n",
              "    </tr>\n",
              "    <tr>\n",
              "      <th>4_model.Linear_4</th>\n",
              "      <td>[2048, 2048]</td>\n",
              "      <td>[32768, 2048]</td>\n",
              "      <td>4196352.0</td>\n",
              "      <td>4194304.0</td>\n",
              "    </tr>\n",
              "    <tr>\n",
              "      <th>5_model.LayerNorm_5</th>\n",
              "      <td>[2048]</td>\n",
              "      <td>[32768, 2048]</td>\n",
              "      <td>4096.0</td>\n",
              "      <td>2048.0</td>\n",
              "    </tr>\n",
              "    <tr>\n",
              "      <th>6_model.GELU_6</th>\n",
              "      <td>-</td>\n",
              "      <td>[32768, 2048]</td>\n",
              "      <td>NaN</td>\n",
              "      <td>NaN</td>\n",
              "    </tr>\n",
              "    <tr>\n",
              "      <th>7_model.Dropout_7</th>\n",
              "      <td>-</td>\n",
              "      <td>[32768, 2048]</td>\n",
              "      <td>NaN</td>\n",
              "      <td>NaN</td>\n",
              "    </tr>\n",
              "    <tr>\n",
              "      <th>8_model.Linear_8</th>\n",
              "      <td>[2048, 2048]</td>\n",
              "      <td>[32768, 2048]</td>\n",
              "      <td>4196352.0</td>\n",
              "      <td>4194304.0</td>\n",
              "    </tr>\n",
              "    <tr>\n",
              "      <th>9_model.LayerNorm_9</th>\n",
              "      <td>[2048]</td>\n",
              "      <td>[32768, 2048]</td>\n",
              "      <td>4096.0</td>\n",
              "      <td>2048.0</td>\n",
              "    </tr>\n",
              "    <tr>\n",
              "      <th>10_model.GELU_10</th>\n",
              "      <td>-</td>\n",
              "      <td>[32768, 2048]</td>\n",
              "      <td>NaN</td>\n",
              "      <td>NaN</td>\n",
              "    </tr>\n",
              "    <tr>\n",
              "      <th>11_model.Dropout_11</th>\n",
              "      <td>-</td>\n",
              "      <td>[32768, 2048]</td>\n",
              "      <td>NaN</td>\n",
              "      <td>NaN</td>\n",
              "    </tr>\n",
              "    <tr>\n",
              "      <th>12_model.Linear_12</th>\n",
              "      <td>[2048, 2048]</td>\n",
              "      <td>[32768, 2048]</td>\n",
              "      <td>4196352.0</td>\n",
              "      <td>4194304.0</td>\n",
              "    </tr>\n",
              "    <tr>\n",
              "      <th>13_model.LayerNorm_13</th>\n",
              "      <td>[2048]</td>\n",
              "      <td>[32768, 2048]</td>\n",
              "      <td>4096.0</td>\n",
              "      <td>2048.0</td>\n",
              "    </tr>\n",
              "    <tr>\n",
              "      <th>14_model.GELU_14</th>\n",
              "      <td>-</td>\n",
              "      <td>[32768, 2048]</td>\n",
              "      <td>NaN</td>\n",
              "      <td>NaN</td>\n",
              "    </tr>\n",
              "    <tr>\n",
              "      <th>15_model.Dropout_15</th>\n",
              "      <td>-</td>\n",
              "      <td>[32768, 2048]</td>\n",
              "      <td>NaN</td>\n",
              "      <td>NaN</td>\n",
              "    </tr>\n",
              "    <tr>\n",
              "      <th>16_model.Linear_16</th>\n",
              "      <td>[2048, 1024]</td>\n",
              "      <td>[32768, 1024]</td>\n",
              "      <td>2098176.0</td>\n",
              "      <td>2097152.0</td>\n",
              "    </tr>\n",
              "    <tr>\n",
              "      <th>17_model.LayerNorm_17</th>\n",
              "      <td>[1024]</td>\n",
              "      <td>[32768, 1024]</td>\n",
              "      <td>2048.0</td>\n",
              "      <td>1024.0</td>\n",
              "    </tr>\n",
              "    <tr>\n",
              "      <th>18_model.GELU_18</th>\n",
              "      <td>-</td>\n",
              "      <td>[32768, 1024]</td>\n",
              "      <td>NaN</td>\n",
              "      <td>NaN</td>\n",
              "    </tr>\n",
              "    <tr>\n",
              "      <th>19_model.Dropout_19</th>\n",
              "      <td>-</td>\n",
              "      <td>[32768, 1024]</td>\n",
              "      <td>NaN</td>\n",
              "      <td>NaN</td>\n",
              "    </tr>\n",
              "    <tr>\n",
              "      <th>20_model.Linear_20</th>\n",
              "      <td>[1024, 1024]</td>\n",
              "      <td>[32768, 1024]</td>\n",
              "      <td>1049600.0</td>\n",
              "      <td>1048576.0</td>\n",
              "    </tr>\n",
              "    <tr>\n",
              "      <th>21_model.LayerNorm_21</th>\n",
              "      <td>[1024]</td>\n",
              "      <td>[32768, 1024]</td>\n",
              "      <td>2048.0</td>\n",
              "      <td>1024.0</td>\n",
              "    </tr>\n",
              "    <tr>\n",
              "      <th>22_model.GELU_22</th>\n",
              "      <td>-</td>\n",
              "      <td>[32768, 1024]</td>\n",
              "      <td>NaN</td>\n",
              "      <td>NaN</td>\n",
              "    </tr>\n",
              "    <tr>\n",
              "      <th>23_model.Dropout_23</th>\n",
              "      <td>-</td>\n",
              "      <td>[32768, 1024]</td>\n",
              "      <td>NaN</td>\n",
              "      <td>NaN</td>\n",
              "    </tr>\n",
              "    <tr>\n",
              "      <th>24_model.Linear_24</th>\n",
              "      <td>[1024, 1024]</td>\n",
              "      <td>[32768, 1024]</td>\n",
              "      <td>1049600.0</td>\n",
              "      <td>1048576.0</td>\n",
              "    </tr>\n",
              "    <tr>\n",
              "      <th>25_model.LayerNorm_25</th>\n",
              "      <td>[1024]</td>\n",
              "      <td>[32768, 1024]</td>\n",
              "      <td>2048.0</td>\n",
              "      <td>1024.0</td>\n",
              "    </tr>\n",
              "    <tr>\n",
              "      <th>26_model.GELU_26</th>\n",
              "      <td>-</td>\n",
              "      <td>[32768, 1024]</td>\n",
              "      <td>NaN</td>\n",
              "      <td>NaN</td>\n",
              "    </tr>\n",
              "    <tr>\n",
              "      <th>27_model.Dropout_27</th>\n",
              "      <td>-</td>\n",
              "      <td>[32768, 1024]</td>\n",
              "      <td>NaN</td>\n",
              "      <td>NaN</td>\n",
              "    </tr>\n",
              "    <tr>\n",
              "      <th>28_model.Linear_28</th>\n",
              "      <td>[1024, 1024]</td>\n",
              "      <td>[32768, 1024]</td>\n",
              "      <td>1049600.0</td>\n",
              "      <td>1048576.0</td>\n",
              "    </tr>\n",
              "    <tr>\n",
              "      <th>29_model.LayerNorm_29</th>\n",
              "      <td>[1024]</td>\n",
              "      <td>[32768, 1024]</td>\n",
              "      <td>2048.0</td>\n",
              "      <td>1024.0</td>\n",
              "    </tr>\n",
              "    <tr>\n",
              "      <th>30_model.GELU_30</th>\n",
              "      <td>-</td>\n",
              "      <td>[32768, 1024]</td>\n",
              "      <td>NaN</td>\n",
              "      <td>NaN</td>\n",
              "    </tr>\n",
              "    <tr>\n",
              "      <th>31_model.Dropout_31</th>\n",
              "      <td>-</td>\n",
              "      <td>[32768, 1024]</td>\n",
              "      <td>NaN</td>\n",
              "      <td>NaN</td>\n",
              "    </tr>\n",
              "    <tr>\n",
              "      <th>32_model.Linear_32</th>\n",
              "      <td>[1024, 40]</td>\n",
              "      <td>[32768, 40]</td>\n",
              "      <td>41000.0</td>\n",
              "      <td>40960.0</td>\n",
              "    </tr>\n",
              "  </tbody>\n",
              "</table>\n",
              "</div>\n",
              "      <button class=\"colab-df-convert\" onclick=\"convertToInteractive('df-83562e7c-e01d-4535-ac38-55dee7d05714')\"\n",
              "              title=\"Convert this dataframe to an interactive table.\"\n",
              "              style=\"display:none;\">\n",
              "        \n",
              "  <svg xmlns=\"http://www.w3.org/2000/svg\" height=\"24px\"viewBox=\"0 0 24 24\"\n",
              "       width=\"24px\">\n",
              "    <path d=\"M0 0h24v24H0V0z\" fill=\"none\"/>\n",
              "    <path d=\"M18.56 5.44l.94 2.06.94-2.06 2.06-.94-2.06-.94-.94-2.06-.94 2.06-2.06.94zm-11 1L8.5 8.5l.94-2.06 2.06-.94-2.06-.94L8.5 2.5l-.94 2.06-2.06.94zm10 10l.94 2.06.94-2.06 2.06-.94-2.06-.94-.94-2.06-.94 2.06-2.06.94z\"/><path d=\"M17.41 7.96l-1.37-1.37c-.4-.4-.92-.59-1.43-.59-.52 0-1.04.2-1.43.59L10.3 9.45l-7.72 7.72c-.78.78-.78 2.05 0 2.83L4 21.41c.39.39.9.59 1.41.59.51 0 1.02-.2 1.41-.59l7.78-7.78 2.81-2.81c.8-.78.8-2.07 0-2.86zM5.41 20L4 18.59l7.72-7.72 1.47 1.35L5.41 20z\"/>\n",
              "  </svg>\n",
              "      </button>\n",
              "      \n",
              "  <style>\n",
              "    .colab-df-container {\n",
              "      display:flex;\n",
              "      flex-wrap:wrap;\n",
              "      gap: 12px;\n",
              "    }\n",
              "\n",
              "    .colab-df-convert {\n",
              "      background-color: #E8F0FE;\n",
              "      border: none;\n",
              "      border-radius: 50%;\n",
              "      cursor: pointer;\n",
              "      display: none;\n",
              "      fill: #1967D2;\n",
              "      height: 32px;\n",
              "      padding: 0 0 0 0;\n",
              "      width: 32px;\n",
              "    }\n",
              "\n",
              "    .colab-df-convert:hover {\n",
              "      background-color: #E2EBFA;\n",
              "      box-shadow: 0px 1px 2px rgba(60, 64, 67, 0.3), 0px 1px 3px 1px rgba(60, 64, 67, 0.15);\n",
              "      fill: #174EA6;\n",
              "    }\n",
              "\n",
              "    [theme=dark] .colab-df-convert {\n",
              "      background-color: #3B4455;\n",
              "      fill: #D2E3FC;\n",
              "    }\n",
              "\n",
              "    [theme=dark] .colab-df-convert:hover {\n",
              "      background-color: #434B5C;\n",
              "      box-shadow: 0px 1px 3px 1px rgba(0, 0, 0, 0.15);\n",
              "      filter: drop-shadow(0px 1px 2px rgba(0, 0, 0, 0.3));\n",
              "      fill: #FFFFFF;\n",
              "    }\n",
              "  </style>\n",
              "\n",
              "      <script>\n",
              "        const buttonEl =\n",
              "          document.querySelector('#df-83562e7c-e01d-4535-ac38-55dee7d05714 button.colab-df-convert');\n",
              "        buttonEl.style.display =\n",
              "          google.colab.kernel.accessAllowed ? 'block' : 'none';\n",
              "\n",
              "        async function convertToInteractive(key) {\n",
              "          const element = document.querySelector('#df-83562e7c-e01d-4535-ac38-55dee7d05714');\n",
              "          const dataTable =\n",
              "            await google.colab.kernel.invokeFunction('convertToInteractive',\n",
              "                                                     [key], {});\n",
              "          if (!dataTable) return;\n",
              "\n",
              "          const docLinkHtml = 'Like what you see? Visit the ' +\n",
              "            '<a target=\"_blank\" href=https://colab.research.google.com/notebooks/data_table.ipynb>data table notebook</a>'\n",
              "            + ' to learn more about interactive tables.';\n",
              "          element.innerHTML = '';\n",
              "          dataTable['output_type'] = 'display_data';\n",
              "          await google.colab.output.renderOutput(dataTable, element);\n",
              "          const docLink = document.createElement('div');\n",
              "          docLink.innerHTML = docLinkHtml;\n",
              "          element.appendChild(docLink);\n",
              "        }\n",
              "      </script>\n",
              "    </div>\n",
              "  </div>\n",
              "  "
            ]
          },
          "metadata": {},
          "execution_count": 18
        }
      ],
      "source": [
        "model = Network(context=config['context'], dropout=config['dropout']).to(device)\n",
        "frames, phoneme = next(iter(train_loader))\n",
        "summary(model, frames.to(device))"
      ]
    },
    {
      "cell_type": "code",
      "execution_count": 19,
      "metadata": {
        "id": "buTtlY3hGMa3"
      },
      "outputs": [],
      "source": [
        "frames, phoneme = next(iter(train_loader))\n",
        "out = model(frames.to(device))"
      ]
    },
    {
      "cell_type": "code",
      "execution_count": 20,
      "metadata": {
        "id": "UROGEVJevKD-"
      },
      "outputs": [],
      "source": [
        "criterion = nn.CrossEntropyLoss()\n",
        "optimizer = torch.optim.AdamW(model.parameters(), lr=config['reduceonplateau_start_lr'], weight_decay=config['optimizer_weight_decay'])\n",
        "\n",
        "scheduler = torch.optim.lr_scheduler.ReduceLROnPlateau(optimizer,\n",
        "                                                       mode='max',\n",
        "                                                       factor=config['reduceonplateau_factor'],\n",
        "                                                       patience=config['reduceonplateau_patience'],\n",
        "                                                       threshold=config['reduceonplateau_threshold'],\n",
        "                                                       threshold_mode='abs',\n",
        "                                                       min_lr=config['reduceonplateau_min_lr'],\n",
        "                                                       verbose=True\n",
        "                                                       )"
      ]
    },
    {
      "cell_type": "markdown",
      "metadata": {
        "id": "IBwunYpyugFg"
      },
      "source": [
        "# Training and Validation Functions"
      ]
    },
    {
      "cell_type": "code",
      "execution_count": 21,
      "metadata": {
        "colab": {
          "base_uri": "https://localhost:8080/"
        },
        "id": "XblOHEVtKab2",
        "outputId": "340ea112-49dc-4a92-b92d-fe83bb62a5b1"
      },
      "outputs": [
        {
          "output_type": "execute_result",
          "data": {
            "text/plain": [
              "44"
            ]
          },
          "metadata": {},
          "execution_count": 21
        }
      ],
      "source": [
        "torch.cuda.empty_cache()\n",
        "gc.collect()"
      ]
    },
    {
      "cell_type": "code",
      "execution_count": 22,
      "metadata": {
        "id": "8wjPz7DHqKcL"
      },
      "outputs": [],
      "source": [
        "def train(model, optimizer, criterion, dataloader, scaler=None):\n",
        "    # train mode\n",
        "    model.train()\n",
        "    train_loss = 0.0\n",
        "    \n",
        "    for iter, (mfccs, phonemes) in tqdm(enumerate(dataloader), total=len(dataloader)) :\n",
        "\n",
        "        mfccs = mfccs.to(device)\n",
        "        phonemes = phonemes.to(device)\n",
        "\n",
        "        # forward prop\n",
        "        logits = model(mfccs)\n",
        "\n",
        "        # loss calc\n",
        "        loss = criterion(logits, phonemes)\n",
        "        train_loss += loss.item()\n",
        "\n",
        "        # init gradient for each batch\n",
        "        optimizer.zero_grad()\n",
        "\n",
        "        # back prop\n",
        "        loss.backward()\n",
        "\n",
        "        # grad descent\n",
        "        optimizer.step()\n",
        "\n",
        "    # average train loss\n",
        "    train_loss /= len(dataloader)\n",
        "\n",
        "    return train_loss"
      ]
    },
    {
      "cell_type": "code",
      "execution_count": 23,
      "metadata": {
        "id": "Q5npQNFH315V"
      },
      "outputs": [],
      "source": [
        "def eval(model, dataloader):\n",
        "    # eval mode\n",
        "    model.eval()\n",
        "\n",
        "    phone_true_list = []\n",
        "    phone_pred_list = []\n",
        "\n",
        "    for i, data in tqdm(enumerate(dataloader), total=len(dataloader)):\n",
        "\n",
        "        frames, phonemes = data\n",
        "        frames, phonemes = frames.to(device), phonemes.to(device) \n",
        "\n",
        "        with torch.inference_mode():\n",
        "            # forward prop\n",
        "            logits = model(frames)\n",
        "\n",
        "        # inference\n",
        "        predicted_phonemes = torch.argmax(logits, dim=1)\n",
        "        \n",
        "        # store inferences\n",
        "        phone_pred_list.extend(predicted_phonemes.cpu().tolist())\n",
        "        phone_true_list.extend(phonemes.cpu().tolist())\n",
        "        \n",
        "        # clear cache\n",
        "        torch.cuda.empty_cache()\n",
        "\n",
        "    # evaluate\n",
        "    accuracy = accuracy_score(phone_pred_list, phone_true_list) \n",
        "    \n",
        "    return accuracy * 100"
      ]
    },
    {
      "cell_type": "markdown",
      "metadata": {
        "id": "yMd_XxPku5qp"
      },
      "source": [
        "# Weights and Biases Setup"
      ]
    },
    {
      "cell_type": "code",
      "execution_count": 24,
      "metadata": {
        "colab": {
          "base_uri": "https://localhost:8080/"
        },
        "id": "SCDYx5VEu6qI",
        "outputId": "a25cd61e-b1f3-4ec1-8cc0-a461fcccbe1a"
      },
      "outputs": [
        {
          "output_type": "stream",
          "name": "stderr",
          "text": [
            "ERROR:wandb.jupyter:Failed to detect the name of this notebook, you can set it manually with the WANDB_NOTEBOOK_NAME environment variable to enable code saving.\n",
            "\u001b[34m\u001b[1mwandb\u001b[0m: W&B API key is configured. Use \u001b[1m`wandb login --relogin`\u001b[0m to force relogin\n",
            "\u001b[34m\u001b[1mwandb\u001b[0m: \u001b[33mWARNING\u001b[0m If you're specifying your api key in code, ensure this code is not shared publicly.\n",
            "\u001b[34m\u001b[1mwandb\u001b[0m: \u001b[33mWARNING\u001b[0m Consider setting the WANDB_API_KEY environment variable, or running `wandb login` from the command line.\n",
            "\u001b[34m\u001b[1mwandb\u001b[0m: Appending key for api.wandb.ai to your netrc file: /root/.netrc\n"
          ]
        },
        {
          "output_type": "execute_result",
          "data": {
            "text/plain": [
              "True"
            ]
          },
          "metadata": {},
          "execution_count": 24
        }
      ],
      "source": [
        "wandb.login(key=\"5ac46cad74707129efc6a4fec92ceb503f6e882f\") #API Key is in your wandb account, under settings (wandb.ai/settings)"
      ]
    },
    {
      "cell_type": "code",
      "execution_count": 25,
      "metadata": {
        "colab": {
          "base_uri": "https://localhost:8080/",
          "height": 86
        },
        "id": "xvUnYd3Bw2up",
        "outputId": "3a4e3985-a3cb-421b-f91b-04b04ac24c9e"
      },
      "outputs": [
        {
          "output_type": "stream",
          "name": "stderr",
          "text": [
            "\u001b[34m\u001b[1mwandb\u001b[0m: Currently logged in as: \u001b[33majinkyanande\u001b[0m (\u001b[33majinkyanande111\u001b[0m). Use \u001b[1m`wandb login --relogin`\u001b[0m to force relogin\n"
          ]
        },
        {
          "output_type": "display_data",
          "data": {
            "text/plain": [
              "<IPython.core.display.HTML object>"
            ],
            "text/html": [
              "Tracking run with wandb version 0.13.4"
            ]
          },
          "metadata": {}
        },
        {
          "output_type": "display_data",
          "data": {
            "text/plain": [
              "<IPython.core.display.HTML object>"
            ],
            "text/html": [
              "Run data is saved locally in <code>/content/wandb/run-20221012_235526-1z7m73bb</code>"
            ]
          },
          "metadata": {}
        },
        {
          "output_type": "display_data",
          "data": {
            "text/plain": [
              "<IPython.core.display.HTML object>"
            ],
            "text/html": [
              "Syncing run <strong><a href=\"https://wandb.ai/ajinkyanande111/hw1p2/runs/1z7m73bb\" target=\"_blank\">Oct_12_23_55_26</a></strong> to <a href=\"https://wandb.ai/ajinkyanande111/hw1p2\" target=\"_blank\">Weights & Biases</a> (<a href=\"https://wandb.me/run\" target=\"_blank\">docs</a>)<br/>"
            ]
          },
          "metadata": {}
        }
      ],
      "source": [
        "run = wandb.init(name = time.strftime(\"%b_%d_%H_%M_%S\", time.localtime()),\n",
        "                 reinit=True,\n",
        "                 project=\"hw1p2\", \n",
        "                 config=config\n",
        "                 )"
      ]
    },
    {
      "cell_type": "code",
      "execution_count": 26,
      "metadata": {
        "colab": {
          "base_uri": "https://localhost:8080/"
        },
        "id": "wft15E_IxYFi",
        "outputId": "baf76e5e-f936-4bdd-e6cf-6e51962376c1"
      },
      "outputs": [
        {
          "output_type": "execute_result",
          "data": {
            "text/plain": [
              "['/content/wandb/run-20221012_235526-1z7m73bb/files/model_arch.txt']"
            ]
          },
          "metadata": {},
          "execution_count": 26
        }
      ],
      "source": [
        "# model defination to str\n",
        "model_arch = str(model)\n",
        "\n",
        "# save to text\n",
        "arch_file = open(\"model_arch.txt\", \"w\")\n",
        "file_write = arch_file.write(model_arch)\n",
        "arch_file.close()\n",
        "\n",
        "# wandb save\n",
        "wandb.save('model_arch.txt')"
      ]
    },
    {
      "cell_type": "markdown",
      "metadata": {
        "id": "nclx_04fu7Dd"
      },
      "source": [
        "# Experiment"
      ]
    },
    {
      "cell_type": "code",
      "execution_count": 27,
      "metadata": {
        "colab": {
          "base_uri": "https://localhost:8080/",
          "height": 607,
          "referenced_widgets": [
            "6623657a98d346afa51ab8e103249b28",
            "8d0cd95aebaa4e778eeda739fcc4a334",
            "506e5437a4964887a8f1a7ea36ff0c80",
            "19f15502a26646c7818832e013d0163c",
            "9dc7d716ee774f5b8db9373eebe88bc3",
            "f406504cbc3b42c1847065d07347faee",
            "a967f1d1c50646a18ff491b9a92b47b0",
            "c652b64ecdf34748a9fe6a84406a60e0",
            "18275ebfd98c49b3b1f700fd586003e2",
            "2ff0dfc89528469e880b6e80156e0382",
            "03aa519e48f94e6eb07c3e8b3053461a",
            "2f131e8d81e8460db36d57f5bb6699e4",
            "7eabb0d9b8174f0e9d6a3b1fd36d911b",
            "960e9aaa07e04d2ba4c93849b9c9b035",
            "77c090b4e07f44368de67a27959c46fd",
            "ee11a3caff284ffaae57b2ea564dff90",
            "1e97858493aa48d7a5b6e5b4d28699df",
            "6af7e51e4d7e4075a2fbb0d08538e738",
            "c07e28cd34624ff1987b23f93760d072",
            "81f80f9fd13c439798349ed2a4e8cb2f",
            "427f8572e4804f22b5e1945ede8b9df2",
            "669f855ed5d44357ac2a5af3f4e536f5",
            "db22696e9c8344dc999d7590c7f351ae",
            "1d68ab410dd242d6bafab0a646675d6f",
            "099f326c9c9b42c096c1fe21b657adb9",
            "a6258843c4bd402b81742580ecd56259",
            "59aaad11bb69434d8b7c22523152823a",
            "fb483ae3d3ab4c92bb267233de895418",
            "07afd88033ee4c829db71bc8e3d71dc7",
            "95fd2188a5d94bffad4dea9822cf7fc1",
            "70267f1a5dc94bb89d15c55b36dbaf8d",
            "3dfd91442222406b8460b1678fe4e606",
            "d94ffcbdb00440ecb68490665609693d",
            "8ea6f6b880b043a8b5eac499b508dcd2",
            "515c762c2054450c9d075606d91c4c9d",
            "196128933c774ba98c3300751b3d11ee",
            "b784bc4d59d54ea290e9ccd8dcb64ecb",
            "f0a9492cb9d940caa5fedbb1c8f5959c",
            "6deb63ec395141dca87a28ae9e1d7a96",
            "4db4e698f4c64aaca1393766f6543530",
            "bdcd082e278648eabcfdfa24ab876b9a",
            "55dcb933659b4ba89c3a3c47df47e3e2",
            "a0a1363cff644188b7f349abc5b772eb",
            "7502f965a1ae47419709996d932a58c4",
            "5dc38846a5604feca2733c33cb41fbe2",
            "4009a3b70df24eb7aaaa29280327ecca",
            "7463ef90445442e6b3904bea23fac521",
            "6abaf3c3c19e46e99e4c1a96f89d7a56",
            "ac3faeeef4e04a0d921ad0834c81a6c2",
            "a91c450c6aab42009f9bf061fa28b36a",
            "d1def1b37c064ec19e3ea154737f5d1c",
            "ab5e0dfd2b2e46ec818fd0eb26b64a9b",
            "f2eecb2a20d04edb84902d97b62b4343",
            "10cee0969c4047caa925cace8a4a8e23",
            "38a617c1b3204838bf03743259ce85c2",
            "73417a9a92d147ca88bfc24ee655c475",
            "f21b3bcad27243c69137f698ef793ea6",
            "1d7abce648d8447d847f486baf5a0ae9",
            "9f3e4d35802c454b859a2d8aaaf895e6",
            "13792e547adb41a7b4c311cc2f32fa7e",
            "e94736bd00a84a668e30f22188029cc1",
            "a13fe6feb72c4ba9951cc75b32277bbf",
            "7d738cb2f6b74ff1beadb4a7fad2a652"
          ]
        },
        "id": "MG4F77Nm0Am9",
        "outputId": "c082d90f-5b60-4dda-dcaf-ae6131bd3a82"
      },
      "outputs": [
        {
          "data": {
            "application/vnd.jupyter.widget-view+json": {
              "model_id": "6623657a98d346afa51ab8e103249b28",
              "version_major": 2,
              "version_minor": 0
            },
            "text/plain": [
              "  0%|          | 0/2 [00:00<?, ?it/s]"
            ]
          },
          "metadata": {},
          "output_type": "display_data"
        },
        {
          "data": {
            "application/vnd.jupyter.widget-view+json": {
              "model_id": "2f131e8d81e8460db36d57f5bb6699e4",
              "version_major": 2,
              "version_minor": 0
            },
            "text/plain": [
              "  0%|          | 0/1105 [00:00<?, ?it/s]"
            ]
          },
          "metadata": {},
          "output_type": "display_data"
        },
        {
          "data": {
            "application/vnd.jupyter.widget-view+json": {
              "model_id": "db22696e9c8344dc999d7590c7f351ae",
              "version_major": 2,
              "version_minor": 0
            },
            "text/plain": [
              "  0%|          | 0/60 [00:00<?, ?it/s]"
            ]
          },
          "metadata": {},
          "output_type": "display_data"
        },
        {
          "metadata": {
            "tags": null
          },
          "name": "stdout",
          "output_type": "stream",
          "text": [
            "epoch 1/2\n",
            "learning Rate: 0.010000\n",
            "train Loss: 2.5820\n",
            "validation Accuracy: 66.50%\n"
          ]
        },
        {
          "data": {
            "application/vnd.jupyter.widget-view+json": {
              "model_id": "8ea6f6b880b043a8b5eac499b508dcd2",
              "version_major": 2,
              "version_minor": 0
            },
            "text/plain": [
              "  0%|          | 0/1105 [00:00<?, ?it/s]"
            ]
          },
          "metadata": {},
          "output_type": "display_data"
        },
        {
          "output_type": "display_data",
          "data": {
            "text/plain": [
              "  0%|          | 0/60 [00:00<?, ?it/s]"
            ],
            "application/vnd.jupyter.widget-view+json": {
              "version_major": 2,
              "version_minor": 0,
              "model_id": "5dc38846a5604feca2733c33cb41fbe2"
            }
          },
          "metadata": {}
        },
        {
          "output_type": "stream",
          "name": "stdout",
          "text": [
            "epoch 2/2\n",
            "learning Rate: 0.010000\n",
            "train Loss: 0.8359\n",
            "validation Accuracy: 79.42%\n"
          ]
        },
        {
          "output_type": "display_data",
          "data": {
            "text/plain": [
              "<IPython.core.display.HTML object>"
            ],
            "text/html": [
              "Waiting for W&B process to finish... <strong style=\"color:green\">(success).</strong>"
            ]
          },
          "metadata": {}
        },
        {
          "output_type": "display_data",
          "data": {
            "text/plain": [
              "VBox(children=(Label(value='0.133 MB of 0.142 MB uploaded (0.000 MB deduped)\\r'), FloatProgress(value=0.940532…"
            ],
            "application/vnd.jupyter.widget-view+json": {
              "version_major": 2,
              "version_minor": 0,
              "model_id": "73417a9a92d147ca88bfc24ee655c475"
            }
          },
          "metadata": {}
        },
        {
          "output_type": "display_data",
          "data": {
            "text/plain": [
              "<IPython.core.display.HTML object>"
            ],
            "text/html": [
              "<style>\n",
              "    table.wandb td:nth-child(1) { padding: 0 10px; text-align: left ; width: auto;} td:nth-child(2) {text-align: left ; width: 100%}\n",
              "    .wandb-row { display: flex; flex-direction: row; flex-wrap: wrap; justify-content: flex-start; width: 100% }\n",
              "    .wandb-col { display: flex; flex-direction: column; flex-basis: 100%; flex: 1; padding: 10px; }\n",
              "    </style>\n",
              "<div class=\"wandb-row\"><div class=\"wandb-col\"><h3>Run history:</h3><br/><table class=\"wandb\"><tr><td>learning rate</td><td>▁▁</td></tr><tr><td>train loss</td><td>█▁</td></tr><tr><td>validation accuracy</td><td>▁█</td></tr></table><br/></div><div class=\"wandb-col\"><h3>Run summary:</h3><br/><table class=\"wandb\"><tr><td>learning rate</td><td>0.01</td></tr><tr><td>train loss</td><td>0.83587</td></tr><tr><td>validation accuracy</td><td>79.4158</td></tr></table><br/></div></div>"
            ]
          },
          "metadata": {}
        },
        {
          "output_type": "display_data",
          "data": {
            "text/plain": [
              "<IPython.core.display.HTML object>"
            ],
            "text/html": [
              "Synced <strong style=\"color:#cdcd00\">Oct_12_23_55_26</strong>: <a href=\"https://wandb.ai/ajinkyanande111/hw1p2/runs/1z7m73bb\" target=\"_blank\">https://wandb.ai/ajinkyanande111/hw1p2/runs/1z7m73bb</a><br/>Synced 5 W&B file(s), 0 media file(s), 2 artifact file(s) and 2 other file(s)"
            ]
          },
          "metadata": {}
        },
        {
          "output_type": "display_data",
          "data": {
            "text/plain": [
              "<IPython.core.display.HTML object>"
            ],
            "text/html": [
              "Find logs at: <code>./wandb/run-20221012_235526-1z7m73bb/logs</code>"
            ]
          },
          "metadata": {}
        }
      ],
      "source": [
        "# initialize\n",
        "best_acc = 0.0\n",
        "\n",
        "for epoch in tqdm(range(config['epochs'])):\n",
        "    # train and eval\n",
        "    train_loss = train(model, optimizer, criterion, train_loader)\n",
        "    eval_accuracy = eval(model, eval_loader)\n",
        "\n",
        "    # print updates\n",
        "    print('epoch {}/{}'.format(epoch+1, config['epochs']))\n",
        "    print('learning Rate: {:.6f}'.format(optimizer.param_groups[0]['lr']))\n",
        "    print('train Loss: {:.4f}'.format(train_loss))\n",
        "    print('validation Accuracy: {:.2f}%'.format(eval_accuracy))\n",
        "\n",
        "    # wandb log metrics\n",
        "    wandb.log({'learning rate' : optimizer.param_groups[0]['lr'],\n",
        "               'train loss' : train_loss,\n",
        "               'validation accuracy' : eval_accuracy}\n",
        "              )\n",
        "\n",
        "    # save if best accuracy\n",
        "    if eval_accuracy >= best_acc:\n",
        "        # save checkpoint torch\n",
        "        torch.save({'epoch': epoch,\n",
        "                    'model_state_dict': model.state_dict(),\n",
        "                    'optimizer_state_dict': optimizer.state_dict(),\n",
        "                    'loss': train_loss,\n",
        "                    'eval_acc': eval_accuracy}, './model_checkpoint.pth'\n",
        "                    )\n",
        "      \n",
        "        # save checkpoint wandb\n",
        "        wandb.save('checkpoint.pth')\n",
        "    \n",
        "    # update learning rate\n",
        "    scheduler.step(eval_accuracy)\n",
        "    \n",
        "# finish wandb run\n",
        "run.finish()"
      ]
    },
    {
      "cell_type": "markdown",
      "metadata": {
        "id": "_kXwf5YUo_4A"
      },
      "source": [
        "# Testing and submission to Kaggle"
      ]
    },
    {
      "cell_type": "code",
      "execution_count": 28,
      "metadata": {
        "id": "R-SU9fZ3xHtk"
      },
      "outputs": [],
      "source": [
        "def test(model, test_loader):\n",
        "    # eval mode\n",
        "    model.eval()\n",
        "\n",
        "    # store predicted phonemes\n",
        "    test_predictions = []\n",
        "\n",
        "    with torch.inference_mode():\n",
        "        for i, frames in enumerate(tqdm(test_loader)):\n",
        "            # evaluate on test data\n",
        "            frames = frames[0].float().to(device)             \n",
        "            output = model(frames)\n",
        "\n",
        "            # get most predicted phoneme\n",
        "            predicted_phonemes = torch.argmax(output, dim=1)\n",
        "\n",
        "            # store phonems in list\n",
        "            test_predictions.extend(predicted_phonemes.cpu().tolist())\n",
        "          \n",
        "    return test_predictions"
      ]
    },
    {
      "cell_type": "code",
      "execution_count": null,
      "metadata": {
        "id": "wG9v6Xmxu7wp",
        "colab": {
          "base_uri": "https://localhost:8080/",
          "height": 49,
          "referenced_widgets": [
            "90e3952afac9460ea1929a383ced4c3c",
            "b25767103bc540138d780b27b77a3815",
            "c327cff6e94d47cea1ba6596117f8d1e",
            "086486868eb84ba9811d4889b1a05005",
            "86c1d51e750f4eaebb6ed522f5beeaf1",
            "aec96db77ebb45babefe9944423edd73",
            "97570a03d8f24dd5a30520eadcb92bac",
            "29d49cc41f944dd2897ce859e0eb52e1",
            "86da4060b48b44479be9a46ccc84b86c",
            "d5122ff16afb4820bf95558693c5cae8",
            "7b8b56715fb84068974f7de6df7656b1"
          ]
        },
        "outputId": "269fee59-c7da-475a-f369-18b2c5a97ca3"
      },
      "outputs": [
        {
          "output_type": "display_data",
          "data": {
            "text/plain": [
              "  0%|          | 0/60 [00:00<?, ?it/s]"
            ],
            "application/vnd.jupyter.widget-view+json": {
              "version_major": 2,
              "version_minor": 0,
              "model_id": "90e3952afac9460ea1929a383ced4c3c"
            }
          },
          "metadata": {}
        }
      ],
      "source": [
        "# load best model in case of overfitting\n",
        "checkpoint = torch.load('/content/model_checkpoint.pth')\n",
        "model.load_state_dict(checkpoint['model_state_dict'])\n",
        "optimizer.load_state_dict(checkpoint['optimizer_state_dict'])\n",
        "\n",
        "# get predictionson best model\n",
        "predictions = test(model, test_loader)"
      ]
    },
    {
      "cell_type": "code",
      "execution_count": null,
      "metadata": {
        "id": "ZE1hRnvf0bFz"
      },
      "outputs": [],
      "source": [
        "# write preds to csv\n",
        "with open(\"./submission.csv\", \"w+\") as f:\n",
        "    f.write(\"id,label\\n\")\n",
        "    for i in range(len(predictions)):\n",
        "        f.write(\"{},{}\\n\".format(i, predictions[i]))"
      ]
    },
    {
      "cell_type": "code",
      "execution_count": null,
      "metadata": {
        "id": "LjcammuCxMKN"
      },
      "outputs": [],
      "source": [
        "# kaggle submission\n",
        "!kaggle competitions submit -c 11-785-f22-hw1p2 -f ./submission.csv -m \"Test Submission\""
      ]
    }
  ],
  "metadata": {
    "accelerator": "GPU",
    "colab": {
      "collapsed_sections": [
        "Vuzce0_TdcaR"
      ],
      "machine_shape": "hm",
      "provenance": []
    },
    "gpuClass": "standard",
    "kernelspec": {
      "display_name": "Python 3",
      "name": "python3"
    },
    "language_info": {
      "name": "python"
    },
    "widgets": {
      "application/vnd.jupyter.widget-state+json": {
        "6623657a98d346afa51ab8e103249b28": {
          "model_module": "@jupyter-widgets/controls",
          "model_name": "HBoxModel",
          "model_module_version": "1.5.0",
          "state": {
            "_dom_classes": [],
            "_model_module": "@jupyter-widgets/controls",
            "_model_module_version": "1.5.0",
            "_model_name": "HBoxModel",
            "_view_count": null,
            "_view_module": "@jupyter-widgets/controls",
            "_view_module_version": "1.5.0",
            "_view_name": "HBoxView",
            "box_style": "",
            "children": [
              "IPY_MODEL_8d0cd95aebaa4e778eeda739fcc4a334",
              "IPY_MODEL_506e5437a4964887a8f1a7ea36ff0c80",
              "IPY_MODEL_19f15502a26646c7818832e013d0163c"
            ],
            "layout": "IPY_MODEL_9dc7d716ee774f5b8db9373eebe88bc3"
          }
        },
        "8d0cd95aebaa4e778eeda739fcc4a334": {
          "model_module": "@jupyter-widgets/controls",
          "model_name": "HTMLModel",
          "model_module_version": "1.5.0",
          "state": {
            "_dom_classes": [],
            "_model_module": "@jupyter-widgets/controls",
            "_model_module_version": "1.5.0",
            "_model_name": "HTMLModel",
            "_view_count": null,
            "_view_module": "@jupyter-widgets/controls",
            "_view_module_version": "1.5.0",
            "_view_name": "HTMLView",
            "description": "",
            "description_tooltip": null,
            "layout": "IPY_MODEL_f406504cbc3b42c1847065d07347faee",
            "placeholder": "​",
            "style": "IPY_MODEL_a967f1d1c50646a18ff491b9a92b47b0",
            "value": "100%"
          }
        },
        "506e5437a4964887a8f1a7ea36ff0c80": {
          "model_module": "@jupyter-widgets/controls",
          "model_name": "FloatProgressModel",
          "model_module_version": "1.5.0",
          "state": {
            "_dom_classes": [],
            "_model_module": "@jupyter-widgets/controls",
            "_model_module_version": "1.5.0",
            "_model_name": "FloatProgressModel",
            "_view_count": null,
            "_view_module": "@jupyter-widgets/controls",
            "_view_module_version": "1.5.0",
            "_view_name": "ProgressView",
            "bar_style": "success",
            "description": "",
            "description_tooltip": null,
            "layout": "IPY_MODEL_c652b64ecdf34748a9fe6a84406a60e0",
            "max": 2,
            "min": 0,
            "orientation": "horizontal",
            "style": "IPY_MODEL_18275ebfd98c49b3b1f700fd586003e2",
            "value": 2
          }
        },
        "19f15502a26646c7818832e013d0163c": {
          "model_module": "@jupyter-widgets/controls",
          "model_name": "HTMLModel",
          "model_module_version": "1.5.0",
          "state": {
            "_dom_classes": [],
            "_model_module": "@jupyter-widgets/controls",
            "_model_module_version": "1.5.0",
            "_model_name": "HTMLModel",
            "_view_count": null,
            "_view_module": "@jupyter-widgets/controls",
            "_view_module_version": "1.5.0",
            "_view_name": "HTMLView",
            "description": "",
            "description_tooltip": null,
            "layout": "IPY_MODEL_2ff0dfc89528469e880b6e80156e0382",
            "placeholder": "​",
            "style": "IPY_MODEL_03aa519e48f94e6eb07c3e8b3053461a",
            "value": " 2/2 [1:02:26&lt;00:00, 1875.37s/it]"
          }
        },
        "9dc7d716ee774f5b8db9373eebe88bc3": {
          "model_module": "@jupyter-widgets/base",
          "model_name": "LayoutModel",
          "model_module_version": "1.2.0",
          "state": {
            "_model_module": "@jupyter-widgets/base",
            "_model_module_version": "1.2.0",
            "_model_name": "LayoutModel",
            "_view_count": null,
            "_view_module": "@jupyter-widgets/base",
            "_view_module_version": "1.2.0",
            "_view_name": "LayoutView",
            "align_content": null,
            "align_items": null,
            "align_self": null,
            "border": null,
            "bottom": null,
            "display": null,
            "flex": null,
            "flex_flow": null,
            "grid_area": null,
            "grid_auto_columns": null,
            "grid_auto_flow": null,
            "grid_auto_rows": null,
            "grid_column": null,
            "grid_gap": null,
            "grid_row": null,
            "grid_template_areas": null,
            "grid_template_columns": null,
            "grid_template_rows": null,
            "height": null,
            "justify_content": null,
            "justify_items": null,
            "left": null,
            "margin": null,
            "max_height": null,
            "max_width": null,
            "min_height": null,
            "min_width": null,
            "object_fit": null,
            "object_position": null,
            "order": null,
            "overflow": null,
            "overflow_x": null,
            "overflow_y": null,
            "padding": null,
            "right": null,
            "top": null,
            "visibility": null,
            "width": null
          }
        },
        "f406504cbc3b42c1847065d07347faee": {
          "model_module": "@jupyter-widgets/base",
          "model_name": "LayoutModel",
          "model_module_version": "1.2.0",
          "state": {
            "_model_module": "@jupyter-widgets/base",
            "_model_module_version": "1.2.0",
            "_model_name": "LayoutModel",
            "_view_count": null,
            "_view_module": "@jupyter-widgets/base",
            "_view_module_version": "1.2.0",
            "_view_name": "LayoutView",
            "align_content": null,
            "align_items": null,
            "align_self": null,
            "border": null,
            "bottom": null,
            "display": null,
            "flex": null,
            "flex_flow": null,
            "grid_area": null,
            "grid_auto_columns": null,
            "grid_auto_flow": null,
            "grid_auto_rows": null,
            "grid_column": null,
            "grid_gap": null,
            "grid_row": null,
            "grid_template_areas": null,
            "grid_template_columns": null,
            "grid_template_rows": null,
            "height": null,
            "justify_content": null,
            "justify_items": null,
            "left": null,
            "margin": null,
            "max_height": null,
            "max_width": null,
            "min_height": null,
            "min_width": null,
            "object_fit": null,
            "object_position": null,
            "order": null,
            "overflow": null,
            "overflow_x": null,
            "overflow_y": null,
            "padding": null,
            "right": null,
            "top": null,
            "visibility": null,
            "width": null
          }
        },
        "a967f1d1c50646a18ff491b9a92b47b0": {
          "model_module": "@jupyter-widgets/controls",
          "model_name": "DescriptionStyleModel",
          "model_module_version": "1.5.0",
          "state": {
            "_model_module": "@jupyter-widgets/controls",
            "_model_module_version": "1.5.0",
            "_model_name": "DescriptionStyleModel",
            "_view_count": null,
            "_view_module": "@jupyter-widgets/base",
            "_view_module_version": "1.2.0",
            "_view_name": "StyleView",
            "description_width": ""
          }
        },
        "c652b64ecdf34748a9fe6a84406a60e0": {
          "model_module": "@jupyter-widgets/base",
          "model_name": "LayoutModel",
          "model_module_version": "1.2.0",
          "state": {
            "_model_module": "@jupyter-widgets/base",
            "_model_module_version": "1.2.0",
            "_model_name": "LayoutModel",
            "_view_count": null,
            "_view_module": "@jupyter-widgets/base",
            "_view_module_version": "1.2.0",
            "_view_name": "LayoutView",
            "align_content": null,
            "align_items": null,
            "align_self": null,
            "border": null,
            "bottom": null,
            "display": null,
            "flex": null,
            "flex_flow": null,
            "grid_area": null,
            "grid_auto_columns": null,
            "grid_auto_flow": null,
            "grid_auto_rows": null,
            "grid_column": null,
            "grid_gap": null,
            "grid_row": null,
            "grid_template_areas": null,
            "grid_template_columns": null,
            "grid_template_rows": null,
            "height": null,
            "justify_content": null,
            "justify_items": null,
            "left": null,
            "margin": null,
            "max_height": null,
            "max_width": null,
            "min_height": null,
            "min_width": null,
            "object_fit": null,
            "object_position": null,
            "order": null,
            "overflow": null,
            "overflow_x": null,
            "overflow_y": null,
            "padding": null,
            "right": null,
            "top": null,
            "visibility": null,
            "width": null
          }
        },
        "18275ebfd98c49b3b1f700fd586003e2": {
          "model_module": "@jupyter-widgets/controls",
          "model_name": "ProgressStyleModel",
          "model_module_version": "1.5.0",
          "state": {
            "_model_module": "@jupyter-widgets/controls",
            "_model_module_version": "1.5.0",
            "_model_name": "ProgressStyleModel",
            "_view_count": null,
            "_view_module": "@jupyter-widgets/base",
            "_view_module_version": "1.2.0",
            "_view_name": "StyleView",
            "bar_color": null,
            "description_width": ""
          }
        },
        "2ff0dfc89528469e880b6e80156e0382": {
          "model_module": "@jupyter-widgets/base",
          "model_name": "LayoutModel",
          "model_module_version": "1.2.0",
          "state": {
            "_model_module": "@jupyter-widgets/base",
            "_model_module_version": "1.2.0",
            "_model_name": "LayoutModel",
            "_view_count": null,
            "_view_module": "@jupyter-widgets/base",
            "_view_module_version": "1.2.0",
            "_view_name": "LayoutView",
            "align_content": null,
            "align_items": null,
            "align_self": null,
            "border": null,
            "bottom": null,
            "display": null,
            "flex": null,
            "flex_flow": null,
            "grid_area": null,
            "grid_auto_columns": null,
            "grid_auto_flow": null,
            "grid_auto_rows": null,
            "grid_column": null,
            "grid_gap": null,
            "grid_row": null,
            "grid_template_areas": null,
            "grid_template_columns": null,
            "grid_template_rows": null,
            "height": null,
            "justify_content": null,
            "justify_items": null,
            "left": null,
            "margin": null,
            "max_height": null,
            "max_width": null,
            "min_height": null,
            "min_width": null,
            "object_fit": null,
            "object_position": null,
            "order": null,
            "overflow": null,
            "overflow_x": null,
            "overflow_y": null,
            "padding": null,
            "right": null,
            "top": null,
            "visibility": null,
            "width": null
          }
        },
        "03aa519e48f94e6eb07c3e8b3053461a": {
          "model_module": "@jupyter-widgets/controls",
          "model_name": "DescriptionStyleModel",
          "model_module_version": "1.5.0",
          "state": {
            "_model_module": "@jupyter-widgets/controls",
            "_model_module_version": "1.5.0",
            "_model_name": "DescriptionStyleModel",
            "_view_count": null,
            "_view_module": "@jupyter-widgets/base",
            "_view_module_version": "1.2.0",
            "_view_name": "StyleView",
            "description_width": ""
          }
        },
        "2f131e8d81e8460db36d57f5bb6699e4": {
          "model_module": "@jupyter-widgets/controls",
          "model_name": "HBoxModel",
          "model_module_version": "1.5.0",
          "state": {
            "_dom_classes": [],
            "_model_module": "@jupyter-widgets/controls",
            "_model_module_version": "1.5.0",
            "_model_name": "HBoxModel",
            "_view_count": null,
            "_view_module": "@jupyter-widgets/controls",
            "_view_module_version": "1.5.0",
            "_view_name": "HBoxView",
            "box_style": "",
            "children": [
              "IPY_MODEL_7eabb0d9b8174f0e9d6a3b1fd36d911b",
              "IPY_MODEL_960e9aaa07e04d2ba4c93849b9c9b035",
              "IPY_MODEL_77c090b4e07f44368de67a27959c46fd"
            ],
            "layout": "IPY_MODEL_ee11a3caff284ffaae57b2ea564dff90"
          }
        },
        "7eabb0d9b8174f0e9d6a3b1fd36d911b": {
          "model_module": "@jupyter-widgets/controls",
          "model_name": "HTMLModel",
          "model_module_version": "1.5.0",
          "state": {
            "_dom_classes": [],
            "_model_module": "@jupyter-widgets/controls",
            "_model_module_version": "1.5.0",
            "_model_name": "HTMLModel",
            "_view_count": null,
            "_view_module": "@jupyter-widgets/controls",
            "_view_module_version": "1.5.0",
            "_view_name": "HTMLView",
            "description": "",
            "description_tooltip": null,
            "layout": "IPY_MODEL_1e97858493aa48d7a5b6e5b4d28699df",
            "placeholder": "​",
            "style": "IPY_MODEL_6af7e51e4d7e4075a2fbb0d08538e738",
            "value": "100%"
          }
        },
        "960e9aaa07e04d2ba4c93849b9c9b035": {
          "model_module": "@jupyter-widgets/controls",
          "model_name": "FloatProgressModel",
          "model_module_version": "1.5.0",
          "state": {
            "_dom_classes": [],
            "_model_module": "@jupyter-widgets/controls",
            "_model_module_version": "1.5.0",
            "_model_name": "FloatProgressModel",
            "_view_count": null,
            "_view_module": "@jupyter-widgets/controls",
            "_view_module_version": "1.5.0",
            "_view_name": "ProgressView",
            "bar_style": "success",
            "description": "",
            "description_tooltip": null,
            "layout": "IPY_MODEL_c07e28cd34624ff1987b23f93760d072",
            "max": 1105,
            "min": 0,
            "orientation": "horizontal",
            "style": "IPY_MODEL_81f80f9fd13c439798349ed2a4e8cb2f",
            "value": 1105
          }
        },
        "77c090b4e07f44368de67a27959c46fd": {
          "model_module": "@jupyter-widgets/controls",
          "model_name": "HTMLModel",
          "model_module_version": "1.5.0",
          "state": {
            "_dom_classes": [],
            "_model_module": "@jupyter-widgets/controls",
            "_model_module_version": "1.5.0",
            "_model_name": "HTMLModel",
            "_view_count": null,
            "_view_module": "@jupyter-widgets/controls",
            "_view_module_version": "1.5.0",
            "_view_name": "HTMLView",
            "description": "",
            "description_tooltip": null,
            "layout": "IPY_MODEL_427f8572e4804f22b5e1945ede8b9df2",
            "placeholder": "​",
            "style": "IPY_MODEL_669f855ed5d44357ac2a5af3f4e536f5",
            "value": " 1105/1105 [29:51&lt;00:00,  2.89s/it]"
          }
        },
        "ee11a3caff284ffaae57b2ea564dff90": {
          "model_module": "@jupyter-widgets/base",
          "model_name": "LayoutModel",
          "model_module_version": "1.2.0",
          "state": {
            "_model_module": "@jupyter-widgets/base",
            "_model_module_version": "1.2.0",
            "_model_name": "LayoutModel",
            "_view_count": null,
            "_view_module": "@jupyter-widgets/base",
            "_view_module_version": "1.2.0",
            "_view_name": "LayoutView",
            "align_content": null,
            "align_items": null,
            "align_self": null,
            "border": null,
            "bottom": null,
            "display": null,
            "flex": null,
            "flex_flow": null,
            "grid_area": null,
            "grid_auto_columns": null,
            "grid_auto_flow": null,
            "grid_auto_rows": null,
            "grid_column": null,
            "grid_gap": null,
            "grid_row": null,
            "grid_template_areas": null,
            "grid_template_columns": null,
            "grid_template_rows": null,
            "height": null,
            "justify_content": null,
            "justify_items": null,
            "left": null,
            "margin": null,
            "max_height": null,
            "max_width": null,
            "min_height": null,
            "min_width": null,
            "object_fit": null,
            "object_position": null,
            "order": null,
            "overflow": null,
            "overflow_x": null,
            "overflow_y": null,
            "padding": null,
            "right": null,
            "top": null,
            "visibility": null,
            "width": null
          }
        },
        "1e97858493aa48d7a5b6e5b4d28699df": {
          "model_module": "@jupyter-widgets/base",
          "model_name": "LayoutModel",
          "model_module_version": "1.2.0",
          "state": {
            "_model_module": "@jupyter-widgets/base",
            "_model_module_version": "1.2.0",
            "_model_name": "LayoutModel",
            "_view_count": null,
            "_view_module": "@jupyter-widgets/base",
            "_view_module_version": "1.2.0",
            "_view_name": "LayoutView",
            "align_content": null,
            "align_items": null,
            "align_self": null,
            "border": null,
            "bottom": null,
            "display": null,
            "flex": null,
            "flex_flow": null,
            "grid_area": null,
            "grid_auto_columns": null,
            "grid_auto_flow": null,
            "grid_auto_rows": null,
            "grid_column": null,
            "grid_gap": null,
            "grid_row": null,
            "grid_template_areas": null,
            "grid_template_columns": null,
            "grid_template_rows": null,
            "height": null,
            "justify_content": null,
            "justify_items": null,
            "left": null,
            "margin": null,
            "max_height": null,
            "max_width": null,
            "min_height": null,
            "min_width": null,
            "object_fit": null,
            "object_position": null,
            "order": null,
            "overflow": null,
            "overflow_x": null,
            "overflow_y": null,
            "padding": null,
            "right": null,
            "top": null,
            "visibility": null,
            "width": null
          }
        },
        "6af7e51e4d7e4075a2fbb0d08538e738": {
          "model_module": "@jupyter-widgets/controls",
          "model_name": "DescriptionStyleModel",
          "model_module_version": "1.5.0",
          "state": {
            "_model_module": "@jupyter-widgets/controls",
            "_model_module_version": "1.5.0",
            "_model_name": "DescriptionStyleModel",
            "_view_count": null,
            "_view_module": "@jupyter-widgets/base",
            "_view_module_version": "1.2.0",
            "_view_name": "StyleView",
            "description_width": ""
          }
        },
        "c07e28cd34624ff1987b23f93760d072": {
          "model_module": "@jupyter-widgets/base",
          "model_name": "LayoutModel",
          "model_module_version": "1.2.0",
          "state": {
            "_model_module": "@jupyter-widgets/base",
            "_model_module_version": "1.2.0",
            "_model_name": "LayoutModel",
            "_view_count": null,
            "_view_module": "@jupyter-widgets/base",
            "_view_module_version": "1.2.0",
            "_view_name": "LayoutView",
            "align_content": null,
            "align_items": null,
            "align_self": null,
            "border": null,
            "bottom": null,
            "display": null,
            "flex": null,
            "flex_flow": null,
            "grid_area": null,
            "grid_auto_columns": null,
            "grid_auto_flow": null,
            "grid_auto_rows": null,
            "grid_column": null,
            "grid_gap": null,
            "grid_row": null,
            "grid_template_areas": null,
            "grid_template_columns": null,
            "grid_template_rows": null,
            "height": null,
            "justify_content": null,
            "justify_items": null,
            "left": null,
            "margin": null,
            "max_height": null,
            "max_width": null,
            "min_height": null,
            "min_width": null,
            "object_fit": null,
            "object_position": null,
            "order": null,
            "overflow": null,
            "overflow_x": null,
            "overflow_y": null,
            "padding": null,
            "right": null,
            "top": null,
            "visibility": null,
            "width": null
          }
        },
        "81f80f9fd13c439798349ed2a4e8cb2f": {
          "model_module": "@jupyter-widgets/controls",
          "model_name": "ProgressStyleModel",
          "model_module_version": "1.5.0",
          "state": {
            "_model_module": "@jupyter-widgets/controls",
            "_model_module_version": "1.5.0",
            "_model_name": "ProgressStyleModel",
            "_view_count": null,
            "_view_module": "@jupyter-widgets/base",
            "_view_module_version": "1.2.0",
            "_view_name": "StyleView",
            "bar_color": null,
            "description_width": ""
          }
        },
        "427f8572e4804f22b5e1945ede8b9df2": {
          "model_module": "@jupyter-widgets/base",
          "model_name": "LayoutModel",
          "model_module_version": "1.2.0",
          "state": {
            "_model_module": "@jupyter-widgets/base",
            "_model_module_version": "1.2.0",
            "_model_name": "LayoutModel",
            "_view_count": null,
            "_view_module": "@jupyter-widgets/base",
            "_view_module_version": "1.2.0",
            "_view_name": "LayoutView",
            "align_content": null,
            "align_items": null,
            "align_self": null,
            "border": null,
            "bottom": null,
            "display": null,
            "flex": null,
            "flex_flow": null,
            "grid_area": null,
            "grid_auto_columns": null,
            "grid_auto_flow": null,
            "grid_auto_rows": null,
            "grid_column": null,
            "grid_gap": null,
            "grid_row": null,
            "grid_template_areas": null,
            "grid_template_columns": null,
            "grid_template_rows": null,
            "height": null,
            "justify_content": null,
            "justify_items": null,
            "left": null,
            "margin": null,
            "max_height": null,
            "max_width": null,
            "min_height": null,
            "min_width": null,
            "object_fit": null,
            "object_position": null,
            "order": null,
            "overflow": null,
            "overflow_x": null,
            "overflow_y": null,
            "padding": null,
            "right": null,
            "top": null,
            "visibility": null,
            "width": null
          }
        },
        "669f855ed5d44357ac2a5af3f4e536f5": {
          "model_module": "@jupyter-widgets/controls",
          "model_name": "DescriptionStyleModel",
          "model_module_version": "1.5.0",
          "state": {
            "_model_module": "@jupyter-widgets/controls",
            "_model_module_version": "1.5.0",
            "_model_name": "DescriptionStyleModel",
            "_view_count": null,
            "_view_module": "@jupyter-widgets/base",
            "_view_module_version": "1.2.0",
            "_view_name": "StyleView",
            "description_width": ""
          }
        },
        "db22696e9c8344dc999d7590c7f351ae": {
          "model_module": "@jupyter-widgets/controls",
          "model_name": "HBoxModel",
          "model_module_version": "1.5.0",
          "state": {
            "_dom_classes": [],
            "_model_module": "@jupyter-widgets/controls",
            "_model_module_version": "1.5.0",
            "_model_name": "HBoxModel",
            "_view_count": null,
            "_view_module": "@jupyter-widgets/controls",
            "_view_module_version": "1.5.0",
            "_view_name": "HBoxView",
            "box_style": "",
            "children": [
              "IPY_MODEL_1d68ab410dd242d6bafab0a646675d6f",
              "IPY_MODEL_099f326c9c9b42c096c1fe21b657adb9",
              "IPY_MODEL_a6258843c4bd402b81742580ecd56259"
            ],
            "layout": "IPY_MODEL_59aaad11bb69434d8b7c22523152823a"
          }
        },
        "1d68ab410dd242d6bafab0a646675d6f": {
          "model_module": "@jupyter-widgets/controls",
          "model_name": "HTMLModel",
          "model_module_version": "1.5.0",
          "state": {
            "_dom_classes": [],
            "_model_module": "@jupyter-widgets/controls",
            "_model_module_version": "1.5.0",
            "_model_name": "HTMLModel",
            "_view_count": null,
            "_view_module": "@jupyter-widgets/controls",
            "_view_module_version": "1.5.0",
            "_view_name": "HTMLView",
            "description": "",
            "description_tooltip": null,
            "layout": "IPY_MODEL_fb483ae3d3ab4c92bb267233de895418",
            "placeholder": "​",
            "style": "IPY_MODEL_07afd88033ee4c829db71bc8e3d71dc7",
            "value": "100%"
          }
        },
        "099f326c9c9b42c096c1fe21b657adb9": {
          "model_module": "@jupyter-widgets/controls",
          "model_name": "FloatProgressModel",
          "model_module_version": "1.5.0",
          "state": {
            "_dom_classes": [],
            "_model_module": "@jupyter-widgets/controls",
            "_model_module_version": "1.5.0",
            "_model_name": "FloatProgressModel",
            "_view_count": null,
            "_view_module": "@jupyter-widgets/controls",
            "_view_module_version": "1.5.0",
            "_view_name": "ProgressView",
            "bar_style": "success",
            "description": "",
            "description_tooltip": null,
            "layout": "IPY_MODEL_95fd2188a5d94bffad4dea9822cf7fc1",
            "max": 60,
            "min": 0,
            "orientation": "horizontal",
            "style": "IPY_MODEL_70267f1a5dc94bb89d15c55b36dbaf8d",
            "value": 60
          }
        },
        "a6258843c4bd402b81742580ecd56259": {
          "model_module": "@jupyter-widgets/controls",
          "model_name": "HTMLModel",
          "model_module_version": "1.5.0",
          "state": {
            "_dom_classes": [],
            "_model_module": "@jupyter-widgets/controls",
            "_model_module_version": "1.5.0",
            "_model_name": "HTMLModel",
            "_view_count": null,
            "_view_module": "@jupyter-widgets/controls",
            "_view_module_version": "1.5.0",
            "_view_name": "HTMLView",
            "description": "",
            "description_tooltip": null,
            "layout": "IPY_MODEL_3dfd91442222406b8460b1678fe4e606",
            "placeholder": "​",
            "style": "IPY_MODEL_d94ffcbdb00440ecb68490665609693d",
            "value": " 60/60 [01:08&lt;00:00,  1.17it/s]"
          }
        },
        "59aaad11bb69434d8b7c22523152823a": {
          "model_module": "@jupyter-widgets/base",
          "model_name": "LayoutModel",
          "model_module_version": "1.2.0",
          "state": {
            "_model_module": "@jupyter-widgets/base",
            "_model_module_version": "1.2.0",
            "_model_name": "LayoutModel",
            "_view_count": null,
            "_view_module": "@jupyter-widgets/base",
            "_view_module_version": "1.2.0",
            "_view_name": "LayoutView",
            "align_content": null,
            "align_items": null,
            "align_self": null,
            "border": null,
            "bottom": null,
            "display": null,
            "flex": null,
            "flex_flow": null,
            "grid_area": null,
            "grid_auto_columns": null,
            "grid_auto_flow": null,
            "grid_auto_rows": null,
            "grid_column": null,
            "grid_gap": null,
            "grid_row": null,
            "grid_template_areas": null,
            "grid_template_columns": null,
            "grid_template_rows": null,
            "height": null,
            "justify_content": null,
            "justify_items": null,
            "left": null,
            "margin": null,
            "max_height": null,
            "max_width": null,
            "min_height": null,
            "min_width": null,
            "object_fit": null,
            "object_position": null,
            "order": null,
            "overflow": null,
            "overflow_x": null,
            "overflow_y": null,
            "padding": null,
            "right": null,
            "top": null,
            "visibility": null,
            "width": null
          }
        },
        "fb483ae3d3ab4c92bb267233de895418": {
          "model_module": "@jupyter-widgets/base",
          "model_name": "LayoutModel",
          "model_module_version": "1.2.0",
          "state": {
            "_model_module": "@jupyter-widgets/base",
            "_model_module_version": "1.2.0",
            "_model_name": "LayoutModel",
            "_view_count": null,
            "_view_module": "@jupyter-widgets/base",
            "_view_module_version": "1.2.0",
            "_view_name": "LayoutView",
            "align_content": null,
            "align_items": null,
            "align_self": null,
            "border": null,
            "bottom": null,
            "display": null,
            "flex": null,
            "flex_flow": null,
            "grid_area": null,
            "grid_auto_columns": null,
            "grid_auto_flow": null,
            "grid_auto_rows": null,
            "grid_column": null,
            "grid_gap": null,
            "grid_row": null,
            "grid_template_areas": null,
            "grid_template_columns": null,
            "grid_template_rows": null,
            "height": null,
            "justify_content": null,
            "justify_items": null,
            "left": null,
            "margin": null,
            "max_height": null,
            "max_width": null,
            "min_height": null,
            "min_width": null,
            "object_fit": null,
            "object_position": null,
            "order": null,
            "overflow": null,
            "overflow_x": null,
            "overflow_y": null,
            "padding": null,
            "right": null,
            "top": null,
            "visibility": null,
            "width": null
          }
        },
        "07afd88033ee4c829db71bc8e3d71dc7": {
          "model_module": "@jupyter-widgets/controls",
          "model_name": "DescriptionStyleModel",
          "model_module_version": "1.5.0",
          "state": {
            "_model_module": "@jupyter-widgets/controls",
            "_model_module_version": "1.5.0",
            "_model_name": "DescriptionStyleModel",
            "_view_count": null,
            "_view_module": "@jupyter-widgets/base",
            "_view_module_version": "1.2.0",
            "_view_name": "StyleView",
            "description_width": ""
          }
        },
        "95fd2188a5d94bffad4dea9822cf7fc1": {
          "model_module": "@jupyter-widgets/base",
          "model_name": "LayoutModel",
          "model_module_version": "1.2.0",
          "state": {
            "_model_module": "@jupyter-widgets/base",
            "_model_module_version": "1.2.0",
            "_model_name": "LayoutModel",
            "_view_count": null,
            "_view_module": "@jupyter-widgets/base",
            "_view_module_version": "1.2.0",
            "_view_name": "LayoutView",
            "align_content": null,
            "align_items": null,
            "align_self": null,
            "border": null,
            "bottom": null,
            "display": null,
            "flex": null,
            "flex_flow": null,
            "grid_area": null,
            "grid_auto_columns": null,
            "grid_auto_flow": null,
            "grid_auto_rows": null,
            "grid_column": null,
            "grid_gap": null,
            "grid_row": null,
            "grid_template_areas": null,
            "grid_template_columns": null,
            "grid_template_rows": null,
            "height": null,
            "justify_content": null,
            "justify_items": null,
            "left": null,
            "margin": null,
            "max_height": null,
            "max_width": null,
            "min_height": null,
            "min_width": null,
            "object_fit": null,
            "object_position": null,
            "order": null,
            "overflow": null,
            "overflow_x": null,
            "overflow_y": null,
            "padding": null,
            "right": null,
            "top": null,
            "visibility": null,
            "width": null
          }
        },
        "70267f1a5dc94bb89d15c55b36dbaf8d": {
          "model_module": "@jupyter-widgets/controls",
          "model_name": "ProgressStyleModel",
          "model_module_version": "1.5.0",
          "state": {
            "_model_module": "@jupyter-widgets/controls",
            "_model_module_version": "1.5.0",
            "_model_name": "ProgressStyleModel",
            "_view_count": null,
            "_view_module": "@jupyter-widgets/base",
            "_view_module_version": "1.2.0",
            "_view_name": "StyleView",
            "bar_color": null,
            "description_width": ""
          }
        },
        "3dfd91442222406b8460b1678fe4e606": {
          "model_module": "@jupyter-widgets/base",
          "model_name": "LayoutModel",
          "model_module_version": "1.2.0",
          "state": {
            "_model_module": "@jupyter-widgets/base",
            "_model_module_version": "1.2.0",
            "_model_name": "LayoutModel",
            "_view_count": null,
            "_view_module": "@jupyter-widgets/base",
            "_view_module_version": "1.2.0",
            "_view_name": "LayoutView",
            "align_content": null,
            "align_items": null,
            "align_self": null,
            "border": null,
            "bottom": null,
            "display": null,
            "flex": null,
            "flex_flow": null,
            "grid_area": null,
            "grid_auto_columns": null,
            "grid_auto_flow": null,
            "grid_auto_rows": null,
            "grid_column": null,
            "grid_gap": null,
            "grid_row": null,
            "grid_template_areas": null,
            "grid_template_columns": null,
            "grid_template_rows": null,
            "height": null,
            "justify_content": null,
            "justify_items": null,
            "left": null,
            "margin": null,
            "max_height": null,
            "max_width": null,
            "min_height": null,
            "min_width": null,
            "object_fit": null,
            "object_position": null,
            "order": null,
            "overflow": null,
            "overflow_x": null,
            "overflow_y": null,
            "padding": null,
            "right": null,
            "top": null,
            "visibility": null,
            "width": null
          }
        },
        "d94ffcbdb00440ecb68490665609693d": {
          "model_module": "@jupyter-widgets/controls",
          "model_name": "DescriptionStyleModel",
          "model_module_version": "1.5.0",
          "state": {
            "_model_module": "@jupyter-widgets/controls",
            "_model_module_version": "1.5.0",
            "_model_name": "DescriptionStyleModel",
            "_view_count": null,
            "_view_module": "@jupyter-widgets/base",
            "_view_module_version": "1.2.0",
            "_view_name": "StyleView",
            "description_width": ""
          }
        },
        "8ea6f6b880b043a8b5eac499b508dcd2": {
          "model_module": "@jupyter-widgets/controls",
          "model_name": "HBoxModel",
          "model_module_version": "1.5.0",
          "state": {
            "_dom_classes": [],
            "_model_module": "@jupyter-widgets/controls",
            "_model_module_version": "1.5.0",
            "_model_name": "HBoxModel",
            "_view_count": null,
            "_view_module": "@jupyter-widgets/controls",
            "_view_module_version": "1.5.0",
            "_view_name": "HBoxView",
            "box_style": "",
            "children": [
              "IPY_MODEL_515c762c2054450c9d075606d91c4c9d",
              "IPY_MODEL_196128933c774ba98c3300751b3d11ee",
              "IPY_MODEL_b784bc4d59d54ea290e9ccd8dcb64ecb"
            ],
            "layout": "IPY_MODEL_f0a9492cb9d940caa5fedbb1c8f5959c"
          }
        },
        "515c762c2054450c9d075606d91c4c9d": {
          "model_module": "@jupyter-widgets/controls",
          "model_name": "HTMLModel",
          "model_module_version": "1.5.0",
          "state": {
            "_dom_classes": [],
            "_model_module": "@jupyter-widgets/controls",
            "_model_module_version": "1.5.0",
            "_model_name": "HTMLModel",
            "_view_count": null,
            "_view_module": "@jupyter-widgets/controls",
            "_view_module_version": "1.5.0",
            "_view_name": "HTMLView",
            "description": "",
            "description_tooltip": null,
            "layout": "IPY_MODEL_6deb63ec395141dca87a28ae9e1d7a96",
            "placeholder": "​",
            "style": "IPY_MODEL_4db4e698f4c64aaca1393766f6543530",
            "value": " 99%"
          }
        },
        "196128933c774ba98c3300751b3d11ee": {
          "model_module": "@jupyter-widgets/controls",
          "model_name": "FloatProgressModel",
          "model_module_version": "1.5.0",
          "state": {
            "_dom_classes": [],
            "_model_module": "@jupyter-widgets/controls",
            "_model_module_version": "1.5.0",
            "_model_name": "FloatProgressModel",
            "_view_count": null,
            "_view_module": "@jupyter-widgets/controls",
            "_view_module_version": "1.5.0",
            "_view_name": "ProgressView",
            "bar_style": "success",
            "description": "",
            "description_tooltip": null,
            "layout": "IPY_MODEL_bdcd082e278648eabcfdfa24ab876b9a",
            "max": 1105,
            "min": 0,
            "orientation": "horizontal",
            "style": "IPY_MODEL_55dcb933659b4ba89c3a3c47df47e3e2",
            "value": 1105
          }
        },
        "b784bc4d59d54ea290e9ccd8dcb64ecb": {
          "model_module": "@jupyter-widgets/controls",
          "model_name": "HTMLModel",
          "model_module_version": "1.5.0",
          "state": {
            "_dom_classes": [],
            "_model_module": "@jupyter-widgets/controls",
            "_model_module_version": "1.5.0",
            "_model_name": "HTMLModel",
            "_view_count": null,
            "_view_module": "@jupyter-widgets/controls",
            "_view_module_version": "1.5.0",
            "_view_name": "HTMLView",
            "description": "",
            "description_tooltip": null,
            "layout": "IPY_MODEL_a0a1363cff644188b7f349abc5b772eb",
            "placeholder": "​",
            "style": "IPY_MODEL_7502f965a1ae47419709996d932a58c4",
            "value": " 1105/1105 [30:15&lt;00:00,  2.50s/it]"
          }
        },
        "f0a9492cb9d940caa5fedbb1c8f5959c": {
          "model_module": "@jupyter-widgets/base",
          "model_name": "LayoutModel",
          "model_module_version": "1.2.0",
          "state": {
            "_model_module": "@jupyter-widgets/base",
            "_model_module_version": "1.2.0",
            "_model_name": "LayoutModel",
            "_view_count": null,
            "_view_module": "@jupyter-widgets/base",
            "_view_module_version": "1.2.0",
            "_view_name": "LayoutView",
            "align_content": null,
            "align_items": null,
            "align_self": null,
            "border": null,
            "bottom": null,
            "display": null,
            "flex": null,
            "flex_flow": null,
            "grid_area": null,
            "grid_auto_columns": null,
            "grid_auto_flow": null,
            "grid_auto_rows": null,
            "grid_column": null,
            "grid_gap": null,
            "grid_row": null,
            "grid_template_areas": null,
            "grid_template_columns": null,
            "grid_template_rows": null,
            "height": null,
            "justify_content": null,
            "justify_items": null,
            "left": null,
            "margin": null,
            "max_height": null,
            "max_width": null,
            "min_height": null,
            "min_width": null,
            "object_fit": null,
            "object_position": null,
            "order": null,
            "overflow": null,
            "overflow_x": null,
            "overflow_y": null,
            "padding": null,
            "right": null,
            "top": null,
            "visibility": null,
            "width": null
          }
        },
        "6deb63ec395141dca87a28ae9e1d7a96": {
          "model_module": "@jupyter-widgets/base",
          "model_name": "LayoutModel",
          "model_module_version": "1.2.0",
          "state": {
            "_model_module": "@jupyter-widgets/base",
            "_model_module_version": "1.2.0",
            "_model_name": "LayoutModel",
            "_view_count": null,
            "_view_module": "@jupyter-widgets/base",
            "_view_module_version": "1.2.0",
            "_view_name": "LayoutView",
            "align_content": null,
            "align_items": null,
            "align_self": null,
            "border": null,
            "bottom": null,
            "display": null,
            "flex": null,
            "flex_flow": null,
            "grid_area": null,
            "grid_auto_columns": null,
            "grid_auto_flow": null,
            "grid_auto_rows": null,
            "grid_column": null,
            "grid_gap": null,
            "grid_row": null,
            "grid_template_areas": null,
            "grid_template_columns": null,
            "grid_template_rows": null,
            "height": null,
            "justify_content": null,
            "justify_items": null,
            "left": null,
            "margin": null,
            "max_height": null,
            "max_width": null,
            "min_height": null,
            "min_width": null,
            "object_fit": null,
            "object_position": null,
            "order": null,
            "overflow": null,
            "overflow_x": null,
            "overflow_y": null,
            "padding": null,
            "right": null,
            "top": null,
            "visibility": null,
            "width": null
          }
        },
        "4db4e698f4c64aaca1393766f6543530": {
          "model_module": "@jupyter-widgets/controls",
          "model_name": "DescriptionStyleModel",
          "model_module_version": "1.5.0",
          "state": {
            "_model_module": "@jupyter-widgets/controls",
            "_model_module_version": "1.5.0",
            "_model_name": "DescriptionStyleModel",
            "_view_count": null,
            "_view_module": "@jupyter-widgets/base",
            "_view_module_version": "1.2.0",
            "_view_name": "StyleView",
            "description_width": ""
          }
        },
        "bdcd082e278648eabcfdfa24ab876b9a": {
          "model_module": "@jupyter-widgets/base",
          "model_name": "LayoutModel",
          "model_module_version": "1.2.0",
          "state": {
            "_model_module": "@jupyter-widgets/base",
            "_model_module_version": "1.2.0",
            "_model_name": "LayoutModel",
            "_view_count": null,
            "_view_module": "@jupyter-widgets/base",
            "_view_module_version": "1.2.0",
            "_view_name": "LayoutView",
            "align_content": null,
            "align_items": null,
            "align_self": null,
            "border": null,
            "bottom": null,
            "display": null,
            "flex": null,
            "flex_flow": null,
            "grid_area": null,
            "grid_auto_columns": null,
            "grid_auto_flow": null,
            "grid_auto_rows": null,
            "grid_column": null,
            "grid_gap": null,
            "grid_row": null,
            "grid_template_areas": null,
            "grid_template_columns": null,
            "grid_template_rows": null,
            "height": null,
            "justify_content": null,
            "justify_items": null,
            "left": null,
            "margin": null,
            "max_height": null,
            "max_width": null,
            "min_height": null,
            "min_width": null,
            "object_fit": null,
            "object_position": null,
            "order": null,
            "overflow": null,
            "overflow_x": null,
            "overflow_y": null,
            "padding": null,
            "right": null,
            "top": null,
            "visibility": null,
            "width": null
          }
        },
        "55dcb933659b4ba89c3a3c47df47e3e2": {
          "model_module": "@jupyter-widgets/controls",
          "model_name": "ProgressStyleModel",
          "model_module_version": "1.5.0",
          "state": {
            "_model_module": "@jupyter-widgets/controls",
            "_model_module_version": "1.5.0",
            "_model_name": "ProgressStyleModel",
            "_view_count": null,
            "_view_module": "@jupyter-widgets/base",
            "_view_module_version": "1.2.0",
            "_view_name": "StyleView",
            "bar_color": null,
            "description_width": ""
          }
        },
        "a0a1363cff644188b7f349abc5b772eb": {
          "model_module": "@jupyter-widgets/base",
          "model_name": "LayoutModel",
          "model_module_version": "1.2.0",
          "state": {
            "_model_module": "@jupyter-widgets/base",
            "_model_module_version": "1.2.0",
            "_model_name": "LayoutModel",
            "_view_count": null,
            "_view_module": "@jupyter-widgets/base",
            "_view_module_version": "1.2.0",
            "_view_name": "LayoutView",
            "align_content": null,
            "align_items": null,
            "align_self": null,
            "border": null,
            "bottom": null,
            "display": null,
            "flex": null,
            "flex_flow": null,
            "grid_area": null,
            "grid_auto_columns": null,
            "grid_auto_flow": null,
            "grid_auto_rows": null,
            "grid_column": null,
            "grid_gap": null,
            "grid_row": null,
            "grid_template_areas": null,
            "grid_template_columns": null,
            "grid_template_rows": null,
            "height": null,
            "justify_content": null,
            "justify_items": null,
            "left": null,
            "margin": null,
            "max_height": null,
            "max_width": null,
            "min_height": null,
            "min_width": null,
            "object_fit": null,
            "object_position": null,
            "order": null,
            "overflow": null,
            "overflow_x": null,
            "overflow_y": null,
            "padding": null,
            "right": null,
            "top": null,
            "visibility": null,
            "width": null
          }
        },
        "7502f965a1ae47419709996d932a58c4": {
          "model_module": "@jupyter-widgets/controls",
          "model_name": "DescriptionStyleModel",
          "model_module_version": "1.5.0",
          "state": {
            "_model_module": "@jupyter-widgets/controls",
            "_model_module_version": "1.5.0",
            "_model_name": "DescriptionStyleModel",
            "_view_count": null,
            "_view_module": "@jupyter-widgets/base",
            "_view_module_version": "1.2.0",
            "_view_name": "StyleView",
            "description_width": ""
          }
        },
        "5dc38846a5604feca2733c33cb41fbe2": {
          "model_module": "@jupyter-widgets/controls",
          "model_name": "HBoxModel",
          "model_module_version": "1.5.0",
          "state": {
            "_dom_classes": [],
            "_model_module": "@jupyter-widgets/controls",
            "_model_module_version": "1.5.0",
            "_model_name": "HBoxModel",
            "_view_count": null,
            "_view_module": "@jupyter-widgets/controls",
            "_view_module_version": "1.5.0",
            "_view_name": "HBoxView",
            "box_style": "",
            "children": [
              "IPY_MODEL_4009a3b70df24eb7aaaa29280327ecca",
              "IPY_MODEL_7463ef90445442e6b3904bea23fac521",
              "IPY_MODEL_6abaf3c3c19e46e99e4c1a96f89d7a56"
            ],
            "layout": "IPY_MODEL_ac3faeeef4e04a0d921ad0834c81a6c2"
          }
        },
        "4009a3b70df24eb7aaaa29280327ecca": {
          "model_module": "@jupyter-widgets/controls",
          "model_name": "HTMLModel",
          "model_module_version": "1.5.0",
          "state": {
            "_dom_classes": [],
            "_model_module": "@jupyter-widgets/controls",
            "_model_module_version": "1.5.0",
            "_model_name": "HTMLModel",
            "_view_count": null,
            "_view_module": "@jupyter-widgets/controls",
            "_view_module_version": "1.5.0",
            "_view_name": "HTMLView",
            "description": "",
            "description_tooltip": null,
            "layout": "IPY_MODEL_a91c450c6aab42009f9bf061fa28b36a",
            "placeholder": "​",
            "style": "IPY_MODEL_d1def1b37c064ec19e3ea154737f5d1c",
            "value": "100%"
          }
        },
        "7463ef90445442e6b3904bea23fac521": {
          "model_module": "@jupyter-widgets/controls",
          "model_name": "FloatProgressModel",
          "model_module_version": "1.5.0",
          "state": {
            "_dom_classes": [],
            "_model_module": "@jupyter-widgets/controls",
            "_model_module_version": "1.5.0",
            "_model_name": "FloatProgressModel",
            "_view_count": null,
            "_view_module": "@jupyter-widgets/controls",
            "_view_module_version": "1.5.0",
            "_view_name": "ProgressView",
            "bar_style": "success",
            "description": "",
            "description_tooltip": null,
            "layout": "IPY_MODEL_ab5e0dfd2b2e46ec818fd0eb26b64a9b",
            "max": 60,
            "min": 0,
            "orientation": "horizontal",
            "style": "IPY_MODEL_f2eecb2a20d04edb84902d97b62b4343",
            "value": 60
          }
        },
        "6abaf3c3c19e46e99e4c1a96f89d7a56": {
          "model_module": "@jupyter-widgets/controls",
          "model_name": "HTMLModel",
          "model_module_version": "1.5.0",
          "state": {
            "_dom_classes": [],
            "_model_module": "@jupyter-widgets/controls",
            "_model_module_version": "1.5.0",
            "_model_name": "HTMLModel",
            "_view_count": null,
            "_view_module": "@jupyter-widgets/controls",
            "_view_module_version": "1.5.0",
            "_view_name": "HTMLView",
            "description": "",
            "description_tooltip": null,
            "layout": "IPY_MODEL_10cee0969c4047caa925cace8a4a8e23",
            "placeholder": "​",
            "style": "IPY_MODEL_38a617c1b3204838bf03743259ce85c2",
            "value": " 60/60 [01:08&lt;00:00,  1.17it/s]"
          }
        },
        "ac3faeeef4e04a0d921ad0834c81a6c2": {
          "model_module": "@jupyter-widgets/base",
          "model_name": "LayoutModel",
          "model_module_version": "1.2.0",
          "state": {
            "_model_module": "@jupyter-widgets/base",
            "_model_module_version": "1.2.0",
            "_model_name": "LayoutModel",
            "_view_count": null,
            "_view_module": "@jupyter-widgets/base",
            "_view_module_version": "1.2.0",
            "_view_name": "LayoutView",
            "align_content": null,
            "align_items": null,
            "align_self": null,
            "border": null,
            "bottom": null,
            "display": null,
            "flex": null,
            "flex_flow": null,
            "grid_area": null,
            "grid_auto_columns": null,
            "grid_auto_flow": null,
            "grid_auto_rows": null,
            "grid_column": null,
            "grid_gap": null,
            "grid_row": null,
            "grid_template_areas": null,
            "grid_template_columns": null,
            "grid_template_rows": null,
            "height": null,
            "justify_content": null,
            "justify_items": null,
            "left": null,
            "margin": null,
            "max_height": null,
            "max_width": null,
            "min_height": null,
            "min_width": null,
            "object_fit": null,
            "object_position": null,
            "order": null,
            "overflow": null,
            "overflow_x": null,
            "overflow_y": null,
            "padding": null,
            "right": null,
            "top": null,
            "visibility": null,
            "width": null
          }
        },
        "a91c450c6aab42009f9bf061fa28b36a": {
          "model_module": "@jupyter-widgets/base",
          "model_name": "LayoutModel",
          "model_module_version": "1.2.0",
          "state": {
            "_model_module": "@jupyter-widgets/base",
            "_model_module_version": "1.2.0",
            "_model_name": "LayoutModel",
            "_view_count": null,
            "_view_module": "@jupyter-widgets/base",
            "_view_module_version": "1.2.0",
            "_view_name": "LayoutView",
            "align_content": null,
            "align_items": null,
            "align_self": null,
            "border": null,
            "bottom": null,
            "display": null,
            "flex": null,
            "flex_flow": null,
            "grid_area": null,
            "grid_auto_columns": null,
            "grid_auto_flow": null,
            "grid_auto_rows": null,
            "grid_column": null,
            "grid_gap": null,
            "grid_row": null,
            "grid_template_areas": null,
            "grid_template_columns": null,
            "grid_template_rows": null,
            "height": null,
            "justify_content": null,
            "justify_items": null,
            "left": null,
            "margin": null,
            "max_height": null,
            "max_width": null,
            "min_height": null,
            "min_width": null,
            "object_fit": null,
            "object_position": null,
            "order": null,
            "overflow": null,
            "overflow_x": null,
            "overflow_y": null,
            "padding": null,
            "right": null,
            "top": null,
            "visibility": null,
            "width": null
          }
        },
        "d1def1b37c064ec19e3ea154737f5d1c": {
          "model_module": "@jupyter-widgets/controls",
          "model_name": "DescriptionStyleModel",
          "model_module_version": "1.5.0",
          "state": {
            "_model_module": "@jupyter-widgets/controls",
            "_model_module_version": "1.5.0",
            "_model_name": "DescriptionStyleModel",
            "_view_count": null,
            "_view_module": "@jupyter-widgets/base",
            "_view_module_version": "1.2.0",
            "_view_name": "StyleView",
            "description_width": ""
          }
        },
        "ab5e0dfd2b2e46ec818fd0eb26b64a9b": {
          "model_module": "@jupyter-widgets/base",
          "model_name": "LayoutModel",
          "model_module_version": "1.2.0",
          "state": {
            "_model_module": "@jupyter-widgets/base",
            "_model_module_version": "1.2.0",
            "_model_name": "LayoutModel",
            "_view_count": null,
            "_view_module": "@jupyter-widgets/base",
            "_view_module_version": "1.2.0",
            "_view_name": "LayoutView",
            "align_content": null,
            "align_items": null,
            "align_self": null,
            "border": null,
            "bottom": null,
            "display": null,
            "flex": null,
            "flex_flow": null,
            "grid_area": null,
            "grid_auto_columns": null,
            "grid_auto_flow": null,
            "grid_auto_rows": null,
            "grid_column": null,
            "grid_gap": null,
            "grid_row": null,
            "grid_template_areas": null,
            "grid_template_columns": null,
            "grid_template_rows": null,
            "height": null,
            "justify_content": null,
            "justify_items": null,
            "left": null,
            "margin": null,
            "max_height": null,
            "max_width": null,
            "min_height": null,
            "min_width": null,
            "object_fit": null,
            "object_position": null,
            "order": null,
            "overflow": null,
            "overflow_x": null,
            "overflow_y": null,
            "padding": null,
            "right": null,
            "top": null,
            "visibility": null,
            "width": null
          }
        },
        "f2eecb2a20d04edb84902d97b62b4343": {
          "model_module": "@jupyter-widgets/controls",
          "model_name": "ProgressStyleModel",
          "model_module_version": "1.5.0",
          "state": {
            "_model_module": "@jupyter-widgets/controls",
            "_model_module_version": "1.5.0",
            "_model_name": "ProgressStyleModel",
            "_view_count": null,
            "_view_module": "@jupyter-widgets/base",
            "_view_module_version": "1.2.0",
            "_view_name": "StyleView",
            "bar_color": null,
            "description_width": ""
          }
        },
        "10cee0969c4047caa925cace8a4a8e23": {
          "model_module": "@jupyter-widgets/base",
          "model_name": "LayoutModel",
          "model_module_version": "1.2.0",
          "state": {
            "_model_module": "@jupyter-widgets/base",
            "_model_module_version": "1.2.0",
            "_model_name": "LayoutModel",
            "_view_count": null,
            "_view_module": "@jupyter-widgets/base",
            "_view_module_version": "1.2.0",
            "_view_name": "LayoutView",
            "align_content": null,
            "align_items": null,
            "align_self": null,
            "border": null,
            "bottom": null,
            "display": null,
            "flex": null,
            "flex_flow": null,
            "grid_area": null,
            "grid_auto_columns": null,
            "grid_auto_flow": null,
            "grid_auto_rows": null,
            "grid_column": null,
            "grid_gap": null,
            "grid_row": null,
            "grid_template_areas": null,
            "grid_template_columns": null,
            "grid_template_rows": null,
            "height": null,
            "justify_content": null,
            "justify_items": null,
            "left": null,
            "margin": null,
            "max_height": null,
            "max_width": null,
            "min_height": null,
            "min_width": null,
            "object_fit": null,
            "object_position": null,
            "order": null,
            "overflow": null,
            "overflow_x": null,
            "overflow_y": null,
            "padding": null,
            "right": null,
            "top": null,
            "visibility": null,
            "width": null
          }
        },
        "38a617c1b3204838bf03743259ce85c2": {
          "model_module": "@jupyter-widgets/controls",
          "model_name": "DescriptionStyleModel",
          "model_module_version": "1.5.0",
          "state": {
            "_model_module": "@jupyter-widgets/controls",
            "_model_module_version": "1.5.0",
            "_model_name": "DescriptionStyleModel",
            "_view_count": null,
            "_view_module": "@jupyter-widgets/base",
            "_view_module_version": "1.2.0",
            "_view_name": "StyleView",
            "description_width": ""
          }
        },
        "73417a9a92d147ca88bfc24ee655c475": {
          "model_module": "@jupyter-widgets/controls",
          "model_name": "VBoxModel",
          "model_module_version": "1.5.0",
          "state": {
            "_dom_classes": [],
            "_model_module": "@jupyter-widgets/controls",
            "_model_module_version": "1.5.0",
            "_model_name": "VBoxModel",
            "_view_count": null,
            "_view_module": "@jupyter-widgets/controls",
            "_view_module_version": "1.5.0",
            "_view_name": "VBoxView",
            "box_style": "",
            "children": [
              "IPY_MODEL_f21b3bcad27243c69137f698ef793ea6",
              "IPY_MODEL_1d7abce648d8447d847f486baf5a0ae9"
            ],
            "layout": "IPY_MODEL_9f3e4d35802c454b859a2d8aaaf895e6"
          }
        },
        "f21b3bcad27243c69137f698ef793ea6": {
          "model_module": "@jupyter-widgets/controls",
          "model_name": "LabelModel",
          "model_module_version": "1.5.0",
          "state": {
            "_dom_classes": [],
            "_model_module": "@jupyter-widgets/controls",
            "_model_module_version": "1.5.0",
            "_model_name": "LabelModel",
            "_view_count": null,
            "_view_module": "@jupyter-widgets/controls",
            "_view_module_version": "1.5.0",
            "_view_name": "LabelView",
            "description": "",
            "description_tooltip": null,
            "layout": "IPY_MODEL_13792e547adb41a7b4c311cc2f32fa7e",
            "placeholder": "​",
            "style": "IPY_MODEL_e94736bd00a84a668e30f22188029cc1",
            "value": "0.133 MB of 0.142 MB uploaded (0.000 MB deduped)\r"
          }
        },
        "1d7abce648d8447d847f486baf5a0ae9": {
          "model_module": "@jupyter-widgets/controls",
          "model_name": "FloatProgressModel",
          "model_module_version": "1.5.0",
          "state": {
            "_dom_classes": [],
            "_model_module": "@jupyter-widgets/controls",
            "_model_module_version": "1.5.0",
            "_model_name": "FloatProgressModel",
            "_view_count": null,
            "_view_module": "@jupyter-widgets/controls",
            "_view_module_version": "1.5.0",
            "_view_name": "ProgressView",
            "bar_style": "",
            "description": "",
            "description_tooltip": null,
            "layout": "IPY_MODEL_a13fe6feb72c4ba9951cc75b32277bbf",
            "max": 1,
            "min": 0,
            "orientation": "horizontal",
            "style": "IPY_MODEL_7d738cb2f6b74ff1beadb4a7fad2a652",
            "value": 0.9405327234815363
          }
        },
        "9f3e4d35802c454b859a2d8aaaf895e6": {
          "model_module": "@jupyter-widgets/base",
          "model_name": "LayoutModel",
          "model_module_version": "1.2.0",
          "state": {
            "_model_module": "@jupyter-widgets/base",
            "_model_module_version": "1.2.0",
            "_model_name": "LayoutModel",
            "_view_count": null,
            "_view_module": "@jupyter-widgets/base",
            "_view_module_version": "1.2.0",
            "_view_name": "LayoutView",
            "align_content": null,
            "align_items": null,
            "align_self": null,
            "border": null,
            "bottom": null,
            "display": null,
            "flex": null,
            "flex_flow": null,
            "grid_area": null,
            "grid_auto_columns": null,
            "grid_auto_flow": null,
            "grid_auto_rows": null,
            "grid_column": null,
            "grid_gap": null,
            "grid_row": null,
            "grid_template_areas": null,
            "grid_template_columns": null,
            "grid_template_rows": null,
            "height": null,
            "justify_content": null,
            "justify_items": null,
            "left": null,
            "margin": null,
            "max_height": null,
            "max_width": null,
            "min_height": null,
            "min_width": null,
            "object_fit": null,
            "object_position": null,
            "order": null,
            "overflow": null,
            "overflow_x": null,
            "overflow_y": null,
            "padding": null,
            "right": null,
            "top": null,
            "visibility": null,
            "width": null
          }
        },
        "13792e547adb41a7b4c311cc2f32fa7e": {
          "model_module": "@jupyter-widgets/base",
          "model_name": "LayoutModel",
          "model_module_version": "1.2.0",
          "state": {
            "_model_module": "@jupyter-widgets/base",
            "_model_module_version": "1.2.0",
            "_model_name": "LayoutModel",
            "_view_count": null,
            "_view_module": "@jupyter-widgets/base",
            "_view_module_version": "1.2.0",
            "_view_name": "LayoutView",
            "align_content": null,
            "align_items": null,
            "align_self": null,
            "border": null,
            "bottom": null,
            "display": null,
            "flex": null,
            "flex_flow": null,
            "grid_area": null,
            "grid_auto_columns": null,
            "grid_auto_flow": null,
            "grid_auto_rows": null,
            "grid_column": null,
            "grid_gap": null,
            "grid_row": null,
            "grid_template_areas": null,
            "grid_template_columns": null,
            "grid_template_rows": null,
            "height": null,
            "justify_content": null,
            "justify_items": null,
            "left": null,
            "margin": null,
            "max_height": null,
            "max_width": null,
            "min_height": null,
            "min_width": null,
            "object_fit": null,
            "object_position": null,
            "order": null,
            "overflow": null,
            "overflow_x": null,
            "overflow_y": null,
            "padding": null,
            "right": null,
            "top": null,
            "visibility": null,
            "width": null
          }
        },
        "e94736bd00a84a668e30f22188029cc1": {
          "model_module": "@jupyter-widgets/controls",
          "model_name": "DescriptionStyleModel",
          "model_module_version": "1.5.0",
          "state": {
            "_model_module": "@jupyter-widgets/controls",
            "_model_module_version": "1.5.0",
            "_model_name": "DescriptionStyleModel",
            "_view_count": null,
            "_view_module": "@jupyter-widgets/base",
            "_view_module_version": "1.2.0",
            "_view_name": "StyleView",
            "description_width": ""
          }
        },
        "a13fe6feb72c4ba9951cc75b32277bbf": {
          "model_module": "@jupyter-widgets/base",
          "model_name": "LayoutModel",
          "model_module_version": "1.2.0",
          "state": {
            "_model_module": "@jupyter-widgets/base",
            "_model_module_version": "1.2.0",
            "_model_name": "LayoutModel",
            "_view_count": null,
            "_view_module": "@jupyter-widgets/base",
            "_view_module_version": "1.2.0",
            "_view_name": "LayoutView",
            "align_content": null,
            "align_items": null,
            "align_self": null,
            "border": null,
            "bottom": null,
            "display": null,
            "flex": null,
            "flex_flow": null,
            "grid_area": null,
            "grid_auto_columns": null,
            "grid_auto_flow": null,
            "grid_auto_rows": null,
            "grid_column": null,
            "grid_gap": null,
            "grid_row": null,
            "grid_template_areas": null,
            "grid_template_columns": null,
            "grid_template_rows": null,
            "height": null,
            "justify_content": null,
            "justify_items": null,
            "left": null,
            "margin": null,
            "max_height": null,
            "max_width": null,
            "min_height": null,
            "min_width": null,
            "object_fit": null,
            "object_position": null,
            "order": null,
            "overflow": null,
            "overflow_x": null,
            "overflow_y": null,
            "padding": null,
            "right": null,
            "top": null,
            "visibility": null,
            "width": null
          }
        },
        "7d738cb2f6b74ff1beadb4a7fad2a652": {
          "model_module": "@jupyter-widgets/controls",
          "model_name": "ProgressStyleModel",
          "model_module_version": "1.5.0",
          "state": {
            "_model_module": "@jupyter-widgets/controls",
            "_model_module_version": "1.5.0",
            "_model_name": "ProgressStyleModel",
            "_view_count": null,
            "_view_module": "@jupyter-widgets/base",
            "_view_module_version": "1.2.0",
            "_view_name": "StyleView",
            "bar_color": null,
            "description_width": ""
          }
        },
        "90e3952afac9460ea1929a383ced4c3c": {
          "model_module": "@jupyter-widgets/controls",
          "model_name": "HBoxModel",
          "model_module_version": "1.5.0",
          "state": {
            "_dom_classes": [],
            "_model_module": "@jupyter-widgets/controls",
            "_model_module_version": "1.5.0",
            "_model_name": "HBoxModel",
            "_view_count": null,
            "_view_module": "@jupyter-widgets/controls",
            "_view_module_version": "1.5.0",
            "_view_name": "HBoxView",
            "box_style": "",
            "children": [
              "IPY_MODEL_b25767103bc540138d780b27b77a3815",
              "IPY_MODEL_c327cff6e94d47cea1ba6596117f8d1e",
              "IPY_MODEL_086486868eb84ba9811d4889b1a05005"
            ],
            "layout": "IPY_MODEL_86c1d51e750f4eaebb6ed522f5beeaf1"
          }
        },
        "b25767103bc540138d780b27b77a3815": {
          "model_module": "@jupyter-widgets/controls",
          "model_name": "HTMLModel",
          "model_module_version": "1.5.0",
          "state": {
            "_dom_classes": [],
            "_model_module": "@jupyter-widgets/controls",
            "_model_module_version": "1.5.0",
            "_model_name": "HTMLModel",
            "_view_count": null,
            "_view_module": "@jupyter-widgets/controls",
            "_view_module_version": "1.5.0",
            "_view_name": "HTMLView",
            "description": "",
            "description_tooltip": null,
            "layout": "IPY_MODEL_aec96db77ebb45babefe9944423edd73",
            "placeholder": "​",
            "style": "IPY_MODEL_97570a03d8f24dd5a30520eadcb92bac",
            "value": "  0%"
          }
        },
        "c327cff6e94d47cea1ba6596117f8d1e": {
          "model_module": "@jupyter-widgets/controls",
          "model_name": "FloatProgressModel",
          "model_module_version": "1.5.0",
          "state": {
            "_dom_classes": [],
            "_model_module": "@jupyter-widgets/controls",
            "_model_module_version": "1.5.0",
            "_model_name": "FloatProgressModel",
            "_view_count": null,
            "_view_module": "@jupyter-widgets/controls",
            "_view_module_version": "1.5.0",
            "_view_name": "ProgressView",
            "bar_style": "",
            "description": "",
            "description_tooltip": null,
            "layout": "IPY_MODEL_29d49cc41f944dd2897ce859e0eb52e1",
            "max": 60,
            "min": 0,
            "orientation": "horizontal",
            "style": "IPY_MODEL_86da4060b48b44479be9a46ccc84b86c",
            "value": 0
          }
        },
        "086486868eb84ba9811d4889b1a05005": {
          "model_module": "@jupyter-widgets/controls",
          "model_name": "HTMLModel",
          "model_module_version": "1.5.0",
          "state": {
            "_dom_classes": [],
            "_model_module": "@jupyter-widgets/controls",
            "_model_module_version": "1.5.0",
            "_model_name": "HTMLModel",
            "_view_count": null,
            "_view_module": "@jupyter-widgets/controls",
            "_view_module_version": "1.5.0",
            "_view_name": "HTMLView",
            "description": "",
            "description_tooltip": null,
            "layout": "IPY_MODEL_d5122ff16afb4820bf95558693c5cae8",
            "placeholder": "​",
            "style": "IPY_MODEL_7b8b56715fb84068974f7de6df7656b1",
            "value": " 0/60 [00:00&lt;?, ?it/s]"
          }
        },
        "86c1d51e750f4eaebb6ed522f5beeaf1": {
          "model_module": "@jupyter-widgets/base",
          "model_name": "LayoutModel",
          "model_module_version": "1.2.0",
          "state": {
            "_model_module": "@jupyter-widgets/base",
            "_model_module_version": "1.2.0",
            "_model_name": "LayoutModel",
            "_view_count": null,
            "_view_module": "@jupyter-widgets/base",
            "_view_module_version": "1.2.0",
            "_view_name": "LayoutView",
            "align_content": null,
            "align_items": null,
            "align_self": null,
            "border": null,
            "bottom": null,
            "display": null,
            "flex": null,
            "flex_flow": null,
            "grid_area": null,
            "grid_auto_columns": null,
            "grid_auto_flow": null,
            "grid_auto_rows": null,
            "grid_column": null,
            "grid_gap": null,
            "grid_row": null,
            "grid_template_areas": null,
            "grid_template_columns": null,
            "grid_template_rows": null,
            "height": null,
            "justify_content": null,
            "justify_items": null,
            "left": null,
            "margin": null,
            "max_height": null,
            "max_width": null,
            "min_height": null,
            "min_width": null,
            "object_fit": null,
            "object_position": null,
            "order": null,
            "overflow": null,
            "overflow_x": null,
            "overflow_y": null,
            "padding": null,
            "right": null,
            "top": null,
            "visibility": null,
            "width": null
          }
        },
        "aec96db77ebb45babefe9944423edd73": {
          "model_module": "@jupyter-widgets/base",
          "model_name": "LayoutModel",
          "model_module_version": "1.2.0",
          "state": {
            "_model_module": "@jupyter-widgets/base",
            "_model_module_version": "1.2.0",
            "_model_name": "LayoutModel",
            "_view_count": null,
            "_view_module": "@jupyter-widgets/base",
            "_view_module_version": "1.2.0",
            "_view_name": "LayoutView",
            "align_content": null,
            "align_items": null,
            "align_self": null,
            "border": null,
            "bottom": null,
            "display": null,
            "flex": null,
            "flex_flow": null,
            "grid_area": null,
            "grid_auto_columns": null,
            "grid_auto_flow": null,
            "grid_auto_rows": null,
            "grid_column": null,
            "grid_gap": null,
            "grid_row": null,
            "grid_template_areas": null,
            "grid_template_columns": null,
            "grid_template_rows": null,
            "height": null,
            "justify_content": null,
            "justify_items": null,
            "left": null,
            "margin": null,
            "max_height": null,
            "max_width": null,
            "min_height": null,
            "min_width": null,
            "object_fit": null,
            "object_position": null,
            "order": null,
            "overflow": null,
            "overflow_x": null,
            "overflow_y": null,
            "padding": null,
            "right": null,
            "top": null,
            "visibility": null,
            "width": null
          }
        },
        "97570a03d8f24dd5a30520eadcb92bac": {
          "model_module": "@jupyter-widgets/controls",
          "model_name": "DescriptionStyleModel",
          "model_module_version": "1.5.0",
          "state": {
            "_model_module": "@jupyter-widgets/controls",
            "_model_module_version": "1.5.0",
            "_model_name": "DescriptionStyleModel",
            "_view_count": null,
            "_view_module": "@jupyter-widgets/base",
            "_view_module_version": "1.2.0",
            "_view_name": "StyleView",
            "description_width": ""
          }
        },
        "29d49cc41f944dd2897ce859e0eb52e1": {
          "model_module": "@jupyter-widgets/base",
          "model_name": "LayoutModel",
          "model_module_version": "1.2.0",
          "state": {
            "_model_module": "@jupyter-widgets/base",
            "_model_module_version": "1.2.0",
            "_model_name": "LayoutModel",
            "_view_count": null,
            "_view_module": "@jupyter-widgets/base",
            "_view_module_version": "1.2.0",
            "_view_name": "LayoutView",
            "align_content": null,
            "align_items": null,
            "align_self": null,
            "border": null,
            "bottom": null,
            "display": null,
            "flex": null,
            "flex_flow": null,
            "grid_area": null,
            "grid_auto_columns": null,
            "grid_auto_flow": null,
            "grid_auto_rows": null,
            "grid_column": null,
            "grid_gap": null,
            "grid_row": null,
            "grid_template_areas": null,
            "grid_template_columns": null,
            "grid_template_rows": null,
            "height": null,
            "justify_content": null,
            "justify_items": null,
            "left": null,
            "margin": null,
            "max_height": null,
            "max_width": null,
            "min_height": null,
            "min_width": null,
            "object_fit": null,
            "object_position": null,
            "order": null,
            "overflow": null,
            "overflow_x": null,
            "overflow_y": null,
            "padding": null,
            "right": null,
            "top": null,
            "visibility": null,
            "width": null
          }
        },
        "86da4060b48b44479be9a46ccc84b86c": {
          "model_module": "@jupyter-widgets/controls",
          "model_name": "ProgressStyleModel",
          "model_module_version": "1.5.0",
          "state": {
            "_model_module": "@jupyter-widgets/controls",
            "_model_module_version": "1.5.0",
            "_model_name": "ProgressStyleModel",
            "_view_count": null,
            "_view_module": "@jupyter-widgets/base",
            "_view_module_version": "1.2.0",
            "_view_name": "StyleView",
            "bar_color": null,
            "description_width": ""
          }
        },
        "d5122ff16afb4820bf95558693c5cae8": {
          "model_module": "@jupyter-widgets/base",
          "model_name": "LayoutModel",
          "model_module_version": "1.2.0",
          "state": {
            "_model_module": "@jupyter-widgets/base",
            "_model_module_version": "1.2.0",
            "_model_name": "LayoutModel",
            "_view_count": null,
            "_view_module": "@jupyter-widgets/base",
            "_view_module_version": "1.2.0",
            "_view_name": "LayoutView",
            "align_content": null,
            "align_items": null,
            "align_self": null,
            "border": null,
            "bottom": null,
            "display": null,
            "flex": null,
            "flex_flow": null,
            "grid_area": null,
            "grid_auto_columns": null,
            "grid_auto_flow": null,
            "grid_auto_rows": null,
            "grid_column": null,
            "grid_gap": null,
            "grid_row": null,
            "grid_template_areas": null,
            "grid_template_columns": null,
            "grid_template_rows": null,
            "height": null,
            "justify_content": null,
            "justify_items": null,
            "left": null,
            "margin": null,
            "max_height": null,
            "max_width": null,
            "min_height": null,
            "min_width": null,
            "object_fit": null,
            "object_position": null,
            "order": null,
            "overflow": null,
            "overflow_x": null,
            "overflow_y": null,
            "padding": null,
            "right": null,
            "top": null,
            "visibility": null,
            "width": null
          }
        },
        "7b8b56715fb84068974f7de6df7656b1": {
          "model_module": "@jupyter-widgets/controls",
          "model_name": "DescriptionStyleModel",
          "model_module_version": "1.5.0",
          "state": {
            "_model_module": "@jupyter-widgets/controls",
            "_model_module_version": "1.5.0",
            "_model_name": "DescriptionStyleModel",
            "_view_count": null,
            "_view_module": "@jupyter-widgets/base",
            "_view_module_version": "1.2.0",
            "_view_name": "StyleView",
            "description_width": ""
          }
        }
      }
    }
  },
  "nbformat": 4,
  "nbformat_minor": 0
}